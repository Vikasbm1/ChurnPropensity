{
 "cells": [
  {
   "cell_type": "markdown",
   "id": "51d55a63",
   "metadata": {
    "tags": [
     "papermill-error-cell-tag"
    ]
   },
   "source": [
    "<span style=\"color:red; font-family:Helvetica Neue, Helvetica, Arial, sans-serif; font-size:2em;\">An Exception was encountered at '<a href=\"#papermill-error-cell\">In [4]</a>'.</span>"
   ]
  },
  {
   "cell_type": "code",
   "execution_count": 1,
   "id": "6d66df6c-8b54-4cc8-bff0-2140bf05a6fe",
   "metadata": {
    "editable": true,
    "execution": {
     "iopub.execute_input": "2025-06-27T12:53:17.967356Z",
     "iopub.status.busy": "2025-06-27T12:53:17.966984Z",
     "iopub.status.idle": "2025-06-27T12:53:17.976145Z",
     "shell.execute_reply": "2025-06-27T12:53:17.975225Z"
    },
    "papermill": {
     "duration": 0.024883,
     "end_time": "2025-06-27T12:53:17.977817",
     "exception": false,
     "start_time": "2025-06-27T12:53:17.952934",
     "status": "completed"
    },
    "slideshow": {
     "slide_type": ""
    },
    "tags": [
     "parameters"
    ]
   },
   "outputs": [],
   "source": [
    "# Parameters\n",
    "bucket_name = None\n",
    "source_blob_name = None\n",
    "destination_file_name = None\n",
    "\n",
    "\n",
    "\n",
    "#bucket_name = \"churn-model-prediction\"\n",
    "#source_blob_name = \"Telecom-Customer-Churn.csv\"\n",
    "#destination_file_name = \"dataset1/Telecom-Customer-Churn.csv\"\n"
   ]
  },
  {
   "cell_type": "code",
   "execution_count": 2,
   "id": "2e956076",
   "metadata": {
    "execution": {
     "iopub.execute_input": "2025-06-27T12:53:18.001754Z",
     "iopub.status.busy": "2025-06-27T12:53:18.000956Z",
     "iopub.status.idle": "2025-06-27T12:53:18.005590Z",
     "shell.execute_reply": "2025-06-27T12:53:18.004745Z"
    },
    "papermill": {
     "duration": 0.019126,
     "end_time": "2025-06-27T12:53:18.007278",
     "exception": false,
     "start_time": "2025-06-27T12:53:17.988152",
     "status": "completed"
    },
    "tags": [
     "injected-parameters"
    ]
   },
   "outputs": [],
   "source": [
    "# Parameters\n",
    "bucket_name = \"churn-model-prediction\"\n",
    "source_blob_name = \"Telecom-Customer-Churn.csv\"\n",
    "destination_file_name = \"tmp/Telecom-Customer-Churn.csv\"\n"
   ]
  },
  {
   "cell_type": "code",
   "execution_count": 3,
   "id": "4c97e9de-eccf-423d-b771-d750735f4c7d",
   "metadata": {
    "editable": true,
    "execution": {
     "iopub.execute_input": "2025-06-27T12:53:18.030253Z",
     "iopub.status.busy": "2025-06-27T12:53:18.029343Z",
     "iopub.status.idle": "2025-06-27T12:53:18.797569Z",
     "shell.execute_reply": "2025-06-27T12:53:18.794562Z"
    },
    "papermill": {
     "duration": 0.783619,
     "end_time": "2025-06-27T12:53:18.801202",
     "exception": false,
     "start_time": "2025-06-27T12:53:18.017583",
     "status": "completed"
    },
    "slideshow": {
     "slide_type": ""
    },
    "tags": []
   },
   "outputs": [],
   "source": [
    "import pandas as pd\n",
    "import seaborn as sns\n",
    "import matplotlib.pyplot as plt\n",
    "import numpy as np\n",
    "import matplotlib.ticker as mtick\n",
    "import math\n",
    "from sklearn.preprocessing import OneHotEncoder, MinMaxScaler\n",
    "from sklearn.model_selection import train_test_split, RandomizedSearchCV\n",
    "from sklearn.ensemble import RandomForestClassifier\n",
    "from sklearn.metrics import accuracy_score, confusion_matrix, classification_report, roc_curve, roc_auc_score\n",
    "from sklearn.metrics import precision_recall_curve, auc, f1_score, ConfusionMatrixDisplay, precision_score, recall_score"
   ]
  },
  {
   "cell_type": "markdown",
   "id": "c2a71f1b",
   "metadata": {
    "tags": [
     "papermill-error-cell-tag"
    ]
   },
   "source": [
    "<span id=\"papermill-error-cell\" style=\"color:red; font-family:Helvetica Neue, Helvetica, Arial, sans-serif; font-size:2em;\">Execution using papermill encountered an exception here and stopped:</span>"
   ]
  },
  {
   "cell_type": "code",
   "execution_count": 4,
   "id": "6c2da69a-8564-46f8-a176-73bfed8d5bc1",
   "metadata": {
    "execution": {
     "iopub.execute_input": "2025-06-27T12:53:18.823585Z",
     "iopub.status.busy": "2025-06-27T12:53:18.822815Z",
     "iopub.status.idle": "2025-06-27T12:53:18.830559Z",
     "shell.execute_reply": "2025-06-27T12:53:18.829431Z"
    },
    "papermill": {
     "duration": 0.021008,
     "end_time": "2025-06-27T12:53:18.832121",
     "exception": true,
     "start_time": "2025-06-27T12:53:18.811113",
     "status": "failed"
    },
    "tags": []
   },
   "outputs": [
    {
     "ename": "SyntaxError",
     "evalue": "incomplete input (1832710175.py, line 15)",
     "output_type": "error",
     "traceback": [
      "\u001b[0;36m  Cell \u001b[0;32mIn[4], line 15\u001b[0;36m\u001b[0m\n\u001b[0;31m    download_blob(bucket_name, source_blob_name, destination_file_name)\"\"\"\u001b[0m\n\u001b[0m                                                                       ^\u001b[0m\n\u001b[0;31mSyntaxError\u001b[0m\u001b[0;31m:\u001b[0m incomplete input\n"
     ]
    }
   ],
   "source": [
    "\n",
    "def download_blob(bucket_name, source_blob_name, destination_file_name):\n",
    "    from google.cloud import storage\n",
    "    import os\n",
    "\n",
    "    os.makedirs(os.path.dirname(destination_file_name), exist_ok=True)\n",
    "\n",
    "    storage_client = storage.Client()\n",
    "    bucket = storage_client.bucket(bucket_name)\n",
    "    blob = bucket.blob(source_blob_name)\n",
    "    blob.download_to_filename(destination_file_name)\n",
    "\n",
    "    print(f\"Blob {source_blob_name} downloaded to {destination_file_name}.\")\n",
    "\n",
    "# Use the parameters as passed\n",
    "download_blob(bucket_name, source_blob_name, destination_file_name)\"\"\"\n"
   ]
  },
  {
   "cell_type": "code",
   "execution_count": null,
   "id": "42fd23ee-f3a9-4936-9d9c-e97eeaac78ba",
   "metadata": {
    "papermill": {
     "duration": null,
     "end_time": null,
     "exception": null,
     "start_time": null,
     "status": "pending"
    },
    "tags": []
   },
   "outputs": [],
   "source": [
    "#df = pd.read_csv('Telecom-Customer-Churn.csv',index_col = 'customerID')\n",
    "df = pd.read_csv('Telecom-Customer-Churn.csv')"
   ]
  },
  {
   "cell_type": "code",
   "execution_count": null,
   "id": "9f7a7627-a4aa-42c8-be89-5dd06c7264ab",
   "metadata": {
    "papermill": {
     "duration": null,
     "end_time": null,
     "exception": null,
     "start_time": null,
     "status": "pending"
    },
    "tags": []
   },
   "outputs": [],
   "source": [
    "df.head()"
   ]
  },
  {
   "cell_type": "code",
   "execution_count": null,
   "id": "aceb1347-0f30-4c47-8f18-63c81f8fe477",
   "metadata": {
    "papermill": {
     "duration": null,
     "end_time": null,
     "exception": null,
     "start_time": null,
     "status": "pending"
    },
    "tags": []
   },
   "outputs": [],
   "source": [
    "df.shape"
   ]
  },
  {
   "cell_type": "code",
   "execution_count": null,
   "id": "d9faf0ee-d679-43a9-b2e7-4b87ec75d1ee",
   "metadata": {
    "papermill": {
     "duration": null,
     "end_time": null,
     "exception": null,
     "start_time": null,
     "status": "pending"
    },
    "tags": []
   },
   "outputs": [],
   "source": [
    "df.columns.values"
   ]
  },
  {
   "cell_type": "code",
   "execution_count": null,
   "id": "ab6b6b28-580e-4303-9b94-88cfe3a1cbf6",
   "metadata": {
    "papermill": {
     "duration": null,
     "end_time": null,
     "exception": null,
     "start_time": null,
     "status": "pending"
    },
    "tags": []
   },
   "outputs": [],
   "source": [
    "df_columns = df.columns.tolist()\n",
    "for column in df_columns:\n",
    "    unique_values = df[column].unique()\n",
    "    print(f\"{column} unique values: {unique_values}\")\n"
   ]
  },
  {
   "cell_type": "code",
   "execution_count": null,
   "id": "5ee21d9d-c848-42ae-bad4-12868ef4bc2f",
   "metadata": {
    "papermill": {
     "duration": null,
     "end_time": null,
     "exception": null,
     "start_time": null,
     "status": "pending"
    },
    "tags": []
   },
   "outputs": [],
   "source": [
    "df.dtypes"
   ]
  },
  {
   "cell_type": "code",
   "execution_count": null,
   "id": "77c2b2e0-bc37-4966-87a0-322ff60f3c54",
   "metadata": {
    "papermill": {
     "duration": null,
     "end_time": null,
     "exception": null,
     "start_time": null,
     "status": "pending"
    },
    "scrolled": true,
    "tags": []
   },
   "outputs": [],
   "source": [
    "df.describe()\n",
    "\n",
    "#below we can see senior citizen has categorical data\n",
    "#The average customer stayed in the company is 32 months and 75% of customer has a tenure of 55 month\n",
    "#Average monthly charges are USD 64.76 and 25% of customers pay more than USD 89.85"
   ]
  },
  {
   "cell_type": "code",
   "execution_count": null,
   "id": "bf8b3f82-6613-4479-b33f-ed9c26291ece",
   "metadata": {
    "papermill": {
     "duration": null,
     "end_time": null,
     "exception": null,
     "start_time": null,
     "status": "pending"
    },
    "tags": []
   },
   "outputs": [],
   "source": [
    "df.info()"
   ]
  },
  {
   "cell_type": "code",
   "execution_count": null,
   "id": "58ad7a1e-55aa-42f9-8bb7-430cfa9908dc",
   "metadata": {
    "papermill": {
     "duration": null,
     "end_time": null,
     "exception": null,
     "start_time": null,
     "status": "pending"
    },
    "tags": []
   },
   "outputs": [],
   "source": [
    "#errors='coerce' parameter -invalid parsing will be set to NaN (Not a Number)\n",
    "\n",
    "df[\"TotalCharges\"] = pd.to_numeric(df[\"TotalCharges\"], errors=\"coerce\")"
   ]
  },
  {
   "cell_type": "code",
   "execution_count": null,
   "id": "6a914f69-b41d-4eab-9c0c-50f430b639f4",
   "metadata": {
    "papermill": {
     "duration": null,
     "end_time": null,
     "exception": null,
     "start_time": null,
     "status": "pending"
    },
    "tags": []
   },
   "outputs": [],
   "source": [
    " # to check the nan value which coerce has replaced if any value found that cannot be converted to numeric\n",
    "\n",
    "df.isnull().sum() "
   ]
  },
  {
   "cell_type": "code",
   "execution_count": null,
   "id": "107df542-e77f-4d13-b15d-8d056e226e1e",
   "metadata": {
    "papermill": {
     "duration": null,
     "end_time": null,
     "exception": null,
     "start_time": null,
     "status": "pending"
    },
    "tags": []
   },
   "outputs": [],
   "source": [
    "df.Churn.value_counts()\n",
    "#here we can see the data is much imbalanced so we would be needing resampling of the data\n",
    "#to evaluate the model"
   ]
  },
  {
   "cell_type": "code",
   "execution_count": null,
   "id": "bddefe3b-6d4d-40cd-a0ab-e1a6b32c6467",
   "metadata": {
    "papermill": {
     "duration": null,
     "end_time": null,
     "exception": null,
     "start_time": null,
     "status": "pending"
    },
    "tags": []
   },
   "outputs": [],
   "source": [
    "\n",
    "x=list(df.Churn.value_counts())\n",
    "print('No' , x[0]/(x[0]+x[1])*100 ,'%')\n",
    "print('Yes' , x[1]/(x[0]+x[1])*100 ,'%')\n",
    "df['Churn'].value_counts()"
   ]
  },
  {
   "cell_type": "code",
   "execution_count": null,
   "id": "aa8b6047-7d0b-4bc7-b3de-d7de17fc619d",
   "metadata": {
    "papermill": {
     "duration": null,
     "end_time": null,
     "exception": null,
     "start_time": null,
     "status": "pending"
    },
    "tags": []
   },
   "outputs": [],
   "source": [
    "df.dropna(inplace = True)\n",
    "df2=df.iloc[:,1:]  #----------it will drop the first column that is customer ID which is irrelevent\n",
    "#print(df2) it will print whole data set except first column"
   ]
  },
  {
   "cell_type": "code",
   "execution_count": null,
   "id": "00767040-744b-49cd-92f8-413468a364e5",
   "metadata": {
    "papermill": {
     "duration": null,
     "end_time": null,
     "exception": null,
     "start_time": null,
     "status": "pending"
    },
    "tags": []
   },
   "outputs": [],
   "source": [
    "#Convertin the predictor variable in a binary numeric variable\n",
    "#df2['Churn'].replace(to_replace='Yes', value=1, inplace=True)\n",
    "#df2['Churn'].replace(to_replace='No',  value=0, inplace=True)\n",
    "\n",
    "\n",
    "# Convert the predictor variable into a binary numeric variable\n",
    "df2['Churn'] = df2['Churn'].replace({'Yes': 1, 'No': 0})\n",
    "df2['Churn'] = df2['Churn'].infer_objects(copy=False)\n",
    "\n"
   ]
  },
  {
   "cell_type": "code",
   "execution_count": null,
   "id": "32d8c9d5-82d5-4f95-9902-7faf72c1d51f",
   "metadata": {
    "papermill": {
     "duration": null,
     "end_time": null,
     "exception": null,
     "start_time": null,
     "status": "pending"
    },
    "tags": []
   },
   "outputs": [],
   "source": [
    "df_dummies = pd.get_dummies(df2)\n",
    "df_dummies.head()"
   ]
  },
  {
   "cell_type": "code",
   "execution_count": null,
   "id": "0037752d-f330-4dc8-812d-1e5e25b6234b",
   "metadata": {
    "papermill": {
     "duration": null,
     "end_time": null,
     "exception": null,
     "start_time": null,
     "status": "pending"
    },
    "tags": []
   },
   "outputs": [],
   "source": [
    "plt.figure(figsize=(10,6))\n",
    "df_dummies.corr()[\"Churn\"].sort_values(ascending=False).plot(kind=\"bar\")\n",
    "#plt.savefig(\"dataVisualisation/correlation.png\", dpi=300)\n",
    "plt.show()"
   ]
  },
  {
   "cell_type": "code",
   "execution_count": null,
   "id": "671526a2-24c3-4b35-9260-cf787d1591dd",
   "metadata": {
    "papermill": {
     "duration": null,
     "end_time": null,
     "exception": null,
     "start_time": null,
     "status": "pending"
    },
    "tags": []
   },
   "outputs": [],
   "source": [
    "#data exploration"
   ]
  },
  {
   "cell_type": "code",
   "execution_count": null,
   "id": "2410b61f-37a2-447b-bead-0473020a576a",
   "metadata": {
    "papermill": {
     "duration": null,
     "end_time": null,
     "exception": null,
     "start_time": null,
     "status": "pending"
    },
    "tags": []
   },
   "outputs": [],
   "source": [
    "# for demographics data "
   ]
  },
  {
   "cell_type": "code",
   "execution_count": null,
   "id": "66340639-4b3d-4333-b854-187ed71c35b0",
   "metadata": {
    "papermill": {
     "duration": null,
     "end_time": null,
     "exception": null,
     "start_time": null,
     "status": "pending"
    },
    "tags": []
   },
   "outputs": [],
   "source": [
    "print(len(df_dummies))"
   ]
  },
  {
   "cell_type": "code",
   "execution_count": null,
   "id": "55e7d043-b99b-4b8e-9ec3-0c8de4157412",
   "metadata": {
    "papermill": {
     "duration": null,
     "end_time": null,
     "exception": null,
     "start_time": null,
     "status": "pending"
    },
    "tags": []
   },
   "outputs": [],
   "source": [
    "print(df['gender'].value_counts()*100.0/ len(df))"
   ]
  },
  {
   "cell_type": "code",
   "execution_count": null,
   "id": "4aa3369f-44e9-4c62-a9e6-6aa484f6720a",
   "metadata": {
    "papermill": {
     "duration": null,
     "end_time": null,
     "exception": null,
     "start_time": null,
     "status": "pending"
    },
    "tags": []
   },
   "outputs": [],
   "source": [
    "colors = ['#4D3415','#E4512B']\n",
    "ax= (df['gender'].value_counts()*100 /len(df)).plot(kind='bar',rot=0 ,color=colors)\n",
    "ax.yaxis.set_major_formatter(mtick.PercentFormatter())  #--------it will format the yaxis into the percentage format\n",
    "#ax.xaxis.set_major_formatter(mtick.PercentFormatter())\n",
    "\n",
    "ax.set_xlabel('Gender')\n",
    "ax.set_ylabel('% Customer')\n",
    "ax.set_title('Gender Distribution')\n",
    "#plt.savefig(\"dataVisualisation/genderDistribution.png\", dpi=300)"
   ]
  },
  {
   "cell_type": "code",
   "execution_count": null,
   "id": "4b58d0c4-7bc7-485f-8ff3-011a45dc2291",
   "metadata": {
    "papermill": {
     "duration": null,
     "end_time": null,
     "exception": null,
     "start_time": null,
     "status": "pending"
    },
    "tags": []
   },
   "outputs": [],
   "source": [
    "\n",
    "df2[['gender','Churn']].groupby(['gender']).mean()"
   ]
  },
  {
   "cell_type": "code",
   "execution_count": null,
   "id": "84e16667-1cab-4436-a545-6cc56303a6c4",
   "metadata": {
    "papermill": {
     "duration": null,
     "end_time": null,
     "exception": null,
     "start_time": null,
     "status": "pending"
    },
    "tags": []
   },
   "outputs": [],
   "source": [
    "#above reflects that about 26% each male and female have churned"
   ]
  },
  {
   "cell_type": "code",
   "execution_count": null,
   "id": "a794234a-64c3-4dc6-9c13-f887399a56ee",
   "metadata": {
    "papermill": {
     "duration": null,
     "end_time": null,
     "exception": null,
     "start_time": null,
     "status": "pending"
    },
    "tags": []
   },
   "outputs": [],
   "source": [
    "print(df['SeniorCitizen'].value_counts()*100.0/ len(df))"
   ]
  },
  {
   "cell_type": "code",
   "execution_count": null,
   "id": "7b63b5d8-4327-404e-97d2-3190cff436c1",
   "metadata": {
    "papermill": {
     "duration": null,
     "end_time": null,
     "exception": null,
     "start_time": null,
     "status": "pending"
    },
    "tags": []
   },
   "outputs": [],
   "source": [
    "ax = (df['SeniorCitizen'].value_counts()*100.0 / len(df))\\\n",
    ".plot.pie(autopct='%.1f%%', labels = ['No' , 'Yes'] ,figsize =(5,5) , fontsize = 12) \n",
    "\n",
    "ax.yaxis.set_major_formatter(mtick.PercentFormatter())\n",
    "ax.set_ylabel('Senior Citizens %' ,fontsize = 12)\n",
    "\n",
    "ax.set_title('% of senior citizen' , fontsize = 12)\n",
    "#plt.savefig(\"dataVisualisation/SeniorCitizenDistribution.png\", dpi=300)"
   ]
  },
  {
   "cell_type": "code",
   "execution_count": null,
   "id": "5a80b861-75c9-403e-af79-503ce39d22c4",
   "metadata": {
    "papermill": {
     "duration": null,
     "end_time": null,
     "exception": null,
     "start_time": null,
     "status": "pending"
    },
    "tags": []
   },
   "outputs": [],
   "source": [
    "df2[['Partner' , 'Churn']].groupby(['Partner']).mean()"
   ]
  },
  {
   "cell_type": "code",
   "execution_count": null,
   "id": "35fae602-8355-41e8-bb56-a7d59fcaebcd",
   "metadata": {
    "papermill": {
     "duration": null,
     "end_time": null,
     "exception": null,
     "start_time": null,
     "status": "pending"
    },
    "tags": []
   },
   "outputs": [],
   "source": [
    "# above indicate that 32.98% of customers without a partner have churned.\n",
    "#and 19.72% of customers with a partner have churned."
   ]
  },
  {
   "cell_type": "code",
   "execution_count": null,
   "id": "08da7b10-58f7-4889-b8f6-7fa95f5dd229",
   "metadata": {
    "papermill": {
     "duration": null,
     "end_time": null,
     "exception": null,
     "start_time": null,
     "status": "pending"
    },
    "tags": []
   },
   "outputs": [],
   "source": [
    "print(df.columns)"
   ]
  },
  {
   "cell_type": "code",
   "execution_count": null,
   "id": "791bd8fa-8a47-44da-817d-5542d89fffb9",
   "metadata": {
    "papermill": {
     "duration": null,
     "end_time": null,
     "exception": null,
     "start_time": null,
     "status": "pending"
    },
    "tags": []
   },
   "outputs": [],
   "source": [
    "#print(df.columns.value_counts().shape[0])"
   ]
  },
  {
   "cell_type": "code",
   "execution_count": null,
   "id": "c6376042-c008-45b2-b040-53a24c5c9878",
   "metadata": {
    "papermill": {
     "duration": null,
     "end_time": null,
     "exception": null,
     "start_time": null,
     "status": "pending"
    },
    "tags": []
   },
   "outputs": [],
   "source": [
    "columns = df.columns  #will findout the features which would be having the 2 values exact\n",
    "binary_cols = []\n",
    "\n",
    "for col in columns:\n",
    "    if df[col].value_counts().shape[0] ==2:\n",
    "        binary_cols.append(col)\n",
    "\n",
    "binary_cols  #categorical features with two classes"
   ]
  },
  {
   "cell_type": "code",
   "execution_count": null,
   "id": "468f510f-2e51-4547-b206-3cbbab447e53",
   "metadata": {
    "papermill": {
     "duration": null,
     "end_time": null,
     "exception": null,
     "start_time": null,
     "status": "pending"
    },
    "tags": []
   },
   "outputs": [],
   "source": [
    "df2[['Dependents' , 'Churn']].groupby(['Dependents']).mean()"
   ]
  },
  {
   "cell_type": "code",
   "execution_count": null,
   "id": "4097542b-e5b9-4f2e-ad89-e73ab55a2a93",
   "metadata": {
    "papermill": {
     "duration": null,
     "end_time": null,
     "exception": null,
     "start_time": null,
     "status": "pending"
    },
    "tags": []
   },
   "outputs": [],
   "source": [
    "df2[['PhoneService' , 'Churn']].groupby(['PhoneService']).mean()"
   ]
  },
  {
   "cell_type": "code",
   "execution_count": null,
   "id": "6933f5ce-4370-44ee-baf7-b2b1a2c64a06",
   "metadata": {
    "papermill": {
     "duration": null,
     "end_time": null,
     "exception": null,
     "start_time": null,
     "status": "pending"
    },
    "tags": []
   },
   "outputs": [],
   "source": [
    "df2[['PaperlessBilling' , 'Churn']].groupby(['PaperlessBilling']).mean()"
   ]
  },
  {
   "cell_type": "code",
   "execution_count": null,
   "id": "855c120c-12ac-4a87-ae7f-072d91c552f6",
   "metadata": {
    "papermill": {
     "duration": null,
     "end_time": null,
     "exception": null,
     "start_time": null,
     "status": "pending"
    },
    "tags": []
   },
   "outputs": [],
   "source": [
    "print(df['InternetService'].value_counts())"
   ]
  },
  {
   "cell_type": "code",
   "execution_count": null,
   "id": "4b54bd2c-5bd2-4490-9881-a2f2aa525f71",
   "metadata": {
    "papermill": {
     "duration": null,
     "end_time": null,
     "exception": null,
     "start_time": null,
     "status": "pending"
    },
    "tags": []
   },
   "outputs": [],
   "source": [
    "#now we will analyse the features which is having more than 2 features:\n",
    "#internet service\n",
    "colors = ['#4D3425','#E4512B' ,'#3E5124']\n",
    "#ax=(df['InternetService'].value_counts()*100.0 /len(df)).plot(kind='bar',stacked=True,rot=0,color=colors)\n",
    "#ax.yaxis.set_major_formatter(mtick.PercentFormatter())\n",
    "\n",
    "ax=(df['InternetService'].value_counts()).plot(kind='bar',stacked = True,rot=0,color=colors)\n",
    "\n",
    "\n",
    "ax.set_ylabel(' Count' )\n",
    "ax.set_title('Internet Service')\n",
    "\n",
    "ax.set_xlabel('InternetService')\n",
    "#plt.savefig(\"dataVisualisation/InternetServiceDistribution.png\", dpi=300)"
   ]
  },
  {
   "cell_type": "code",
   "execution_count": null,
   "id": "2ff501ba-240b-4f7a-a212-63a8d5846d1e",
   "metadata": {
    "papermill": {
     "duration": null,
     "end_time": null,
     "exception": null,
     "start_time": null,
     "status": "pending"
    },
    "tags": []
   },
   "outputs": [],
   "source": [
    "df2[['InternetService' , 'Churn']].groupby('InternetService').mean()"
   ]
  },
  {
   "cell_type": "code",
   "execution_count": null,
   "id": "f713d2da-d372-4832-9e37-ff44797f14dc",
   "metadata": {
    "papermill": {
     "duration": null,
     "end_time": null,
     "exception": null,
     "start_time": null,
     "status": "pending"
    },
    "tags": []
   },
   "outputs": [],
   "source": [
    "colors = ['#4D3425','#E4512B' ,'#3E5124']\n",
    "ax=(df['StreamingTV'].value_counts()).plot(kind='bar',color=colors,rot=0)\n",
    "ax.set_ylabel('Counts')\n",
    "ax.set_title('StreamingTV')\n",
    "#plt.savefig(\"dataVisualisation/StreamingTVDistribution.png\", dpi=300)"
   ]
  },
  {
   "cell_type": "code",
   "execution_count": null,
   "id": "b82527db-692b-4f8d-af90-02a5b158b65f",
   "metadata": {
    "papermill": {
     "duration": null,
     "end_time": null,
     "exception": null,
     "start_time": null,
     "status": "pending"
    },
    "tags": []
   },
   "outputs": [],
   "source": [
    "df2[['StreamingTV' , 'Churn']].groupby('StreamingTV').mean()"
   ]
  },
  {
   "cell_type": "code",
   "execution_count": null,
   "id": "3b475bfb-40ad-4f38-90b3-ebe25d2c31df",
   "metadata": {
    "papermill": {
     "duration": null,
     "end_time": null,
     "exception": null,
     "start_time": null,
     "status": "pending"
    },
    "tags": []
   },
   "outputs": [],
   "source": [
    "ax = (df['TechSupport'].value_counts()*100.0 / len(df))\\\n",
    ".plot.pie(autopct='%.1f%%', labels = ['No' , 'Yes' , 'Internet Service'] ,figsize =(5,5) , fontsize = 12) \n",
    "ax.yaxis.set_major_formatter(mtick.PercentFormatter())\n",
    "ax.set_ylabel('Count %')\n",
    "ax.set_title('TechSupport')\n",
    "#plt.savefig(\"dataVisualisation/TechSupportDistribution.png\", dpi=300)"
   ]
  },
  {
   "cell_type": "code",
   "execution_count": null,
   "id": "82f349b6-ce57-4aaf-83b6-906631652533",
   "metadata": {
    "papermill": {
     "duration": null,
     "end_time": null,
     "exception": null,
     "start_time": null,
     "status": "pending"
    },
    "tags": []
   },
   "outputs": [],
   "source": [
    "df2[['TechSupport' ,'Churn']].groupby('TechSupport').mean()"
   ]
  },
  {
   "cell_type": "code",
   "execution_count": null,
   "id": "665a430b-0d85-4bb1-adc9-f2147064cd62",
   "metadata": {
    "papermill": {
     "duration": null,
     "end_time": null,
     "exception": null,
     "start_time": null,
     "status": "pending"
    },
    "tags": []
   },
   "outputs": [],
   "source": [
    "ax = (df['OnlineSecurity'].value_counts()*100.0/len(df))\\\n",
    ".plot.pie(autopct='%.1f%%', labels=['Yes','No','OnlineSecurity'],figsize = (5,5),fontsize=12)\n",
    "\n",
    "ax.yaxis.set_major_formatter(mtick.PercentFormatter())\n",
    "ax.set_ylabel('count%')\n",
    "ax.set_title('OnlineSecurity')\n",
    "ax.set_xlabel('Online_Security')\n",
    "#plt.savefig(\"dataVisualisation/Online_SecurityDistribution.png\", dpi=300)"
   ]
  },
  {
   "cell_type": "code",
   "execution_count": null,
   "id": "48cfe7ac-543d-4f2f-9c70-978b6160a33e",
   "metadata": {
    "papermill": {
     "duration": null,
     "end_time": null,
     "exception": null,
     "start_time": null,
     "status": "pending"
    },
    "tags": []
   },
   "outputs": [],
   "source": [
    "df2[['OnlineSecurity' , 'Churn']].groupby('OnlineSecurity').mean()"
   ]
  },
  {
   "cell_type": "code",
   "execution_count": null,
   "id": "b6a4f302-44f4-4e6c-b7fd-954200662e58",
   "metadata": {
    "papermill": {
     "duration": null,
     "end_time": null,
     "exception": null,
     "start_time": null,
     "status": "pending"
    },
    "tags": []
   },
   "outputs": [],
   "source": [
    "ax=sns.displot(df['tenure'],binwidth=2,color = 'red',bins=30,kde = True)\n",
    "plt.xlabel('Tenure (months)')\n",
    "plt.ylabel('# of Customers')\n",
    "plt.title('# of Customers by their tenure')\n",
    "#plt.savefig(\"dataVisualisation/TenureDistribution.png\", dpi=300)"
   ]
  },
  {
   "cell_type": "code",
   "execution_count": null,
   "id": "147e3c2c-3cd0-4007-bbd5-9cb8d1ee878d",
   "metadata": {
    "papermill": {
     "duration": null,
     "end_time": null,
     "exception": null,
     "start_time": null,
     "status": "pending"
    },
    "tags": []
   },
   "outputs": [],
   "source": [
    "ax=df['Contract'].value_counts().plot(kind='bar',rot=0,width=0.3)\n",
    "ax.set_ylabel('# of Customers')\n",
    "ax.set_title('# of Customers by Contract Type')\n",
    "#plt.savefig(\"dataVisualisation/ContractDistribution.png\", dpi=300)"
   ]
  },
  {
   "cell_type": "code",
   "execution_count": null,
   "id": "c2ead438-36a9-491f-a4db-c69b146860e2",
   "metadata": {
    "papermill": {
     "duration": null,
     "end_time": null,
     "exception": null,
     "start_time": null,
     "status": "pending"
    },
    "tags": []
   },
   "outputs": [],
   "source": [
    "ax1 = sns.displot(df[df['Contract']=='Month-to-month']['tenure'] , binwidth=2,color = 'lightblue',bins=30)\n",
    "plt.xlabel('Tenure (months)')\n",
    "plt.ylabel('# of Customers')\n",
    "plt.title('Month to Month Contract')\n",
    "#plt.savefig(\"dataVisualisation/Month_to_MonthDistribution.png\", dpi=300)\n"
   ]
  },
  {
   "cell_type": "code",
   "execution_count": null,
   "id": "c441d4f6-777d-475b-9c93-d64d0e304e06",
   "metadata": {
    "papermill": {
     "duration": null,
     "end_time": null,
     "exception": null,
     "start_time": null,
     "status": "pending"
    },
    "tags": []
   },
   "outputs": [],
   "source": [
    "#the customer who is taking the month to month contract are having the short tenures and less loyal"
   ]
  },
  {
   "cell_type": "code",
   "execution_count": null,
   "id": "87231f2c-6803-44a7-964c-6830bed8c105",
   "metadata": {
    "papermill": {
     "duration": null,
     "end_time": null,
     "exception": null,
     "start_time": null,
     "status": "pending"
    },
    "tags": []
   },
   "outputs": [],
   "source": [
    "\n",
    "ax1=sns.displot(df[df['Contract']=='One year']['tenure'],binwidth=2,color='red',bins=30)\n",
    "\n",
    "plt.xlabel('Tenure (months)')\n",
    "plt.ylabel('# of Customers')\n",
    "plt.title('One Year Contract')\n",
    "#plt.savefig(\"dataVisualisation/oneYearDistribution.png\", dpi=300)"
   ]
  },
  {
   "cell_type": "code",
   "execution_count": null,
   "id": "8f35a28a-118a-43da-beaf-86045085aa67",
   "metadata": {
    "papermill": {
     "duration": null,
     "end_time": null,
     "exception": null,
     "start_time": null,
     "status": "pending"
    },
    "tags": []
   },
   "outputs": [],
   "source": [
    "ax2=sns.displot(df[df['Contract']=='Two year']['tenure'],binwidth=2,color='green',bins=30)\n",
    "plt.xlabel('Tenure (months)')\n",
    "plt.ylabel('# of Customers')\n",
    "plt.title('Two Year Contract')\n",
    "#plt.savefig(\"dataVisualisation/two_YearDistribution.png\", dpi=300)"
   ]
  },
  {
   "cell_type": "code",
   "execution_count": null,
   "id": "58f1de6c-d8a5-41c3-a192-dd57824d6587",
   "metadata": {
    "papermill": {
     "duration": null,
     "end_time": null,
     "exception": null,
     "start_time": null,
     "status": "pending"
    },
    "tags": []
   },
   "outputs": [],
   "source": [
    "df.columns.values"
   ]
  },
  {
   "cell_type": "code",
   "execution_count": null,
   "id": "25c154af-272f-45b3-9cf8-3dcf214d134e",
   "metadata": {
    "papermill": {
     "duration": null,
     "end_time": null,
     "exception": null,
     "start_time": null,
     "status": "pending"
    },
    "tags": []
   },
   "outputs": [],
   "source": [
    "columns = df.columns  #will findout the features which would be having the 2 values exact\n",
    "binary_cols1 = []\n",
    "\n",
    "for col in columns:\n",
    "    if df[col].value_counts().shape[0] ==3:\n",
    "        binary_cols1.append(col)\n",
    "\n",
    "binary_cols1  #categorical features with two classes"
   ]
  },
  {
   "cell_type": "code",
   "execution_count": null,
   "id": "cf40b6d0-8ea5-4cbb-a28a-c7a465382e4c",
   "metadata": {
    "papermill": {
     "duration": null,
     "end_time": null,
     "exception": null,
     "start_time": null,
     "status": "pending"
    },
    "tags": []
   },
   "outputs": [],
   "source": [
    "services = ['PhoneService','MultipleLines','InternetService','OnlineSecurity',\n",
    "           'OnlineBackup','DeviceProtection','TechSupport','StreamingTV','StreamingMovies']\n",
    "\n",
    "fig, axes = plt.subplots(nrows = 3,ncols = 3,figsize = (15,20))\n",
    "for i, item in enumerate(services):\n",
    "    if i < 3:\n",
    "        ax = df[item].value_counts().plot(kind = 'bar',ax=axes[i,0],rot = 0)\n",
    "        \n",
    "    elif i >=3 and i < 6:\n",
    "        ax = df[item].value_counts().plot(kind = 'bar',ax=axes[i-3,1],rot = 0)\n",
    "        \n",
    "    elif i < 9:\n",
    "        ax = df[item].value_counts().plot(kind = 'bar',ax=axes[i-6,2],rot = 0)\n",
    "    ax.set_title(item)\n",
    "  #  plt.savefig(\"dataVisualisation/PhoneServiceDistribution.png\", dpi=300)\n",
    "   # plt.savefig(\"dataVisualisation/MultipleLinesDistribution.png\", dpi=300)\n",
    "    #plt.savefig(\"dataVisualisation/OnlineBackupDistribution.png\", dpi=300)\n",
    "    #plt.savefig(\"dataVisualisation/DeviceProtectionDistribution.png\", dpi=300)\n",
    "    #plt.savefig(\"dataVisualisation/StreamingMoviesDistribution.png\", dpi=300)\n"
   ]
  },
  {
   "cell_type": "code",
   "execution_count": null,
   "id": "547ab504-497b-477f-aa69-c8fc5fb3a349",
   "metadata": {
    "papermill": {
     "duration": null,
     "end_time": null,
     "exception": null,
     "start_time": null,
     "status": "pending"
    },
    "tags": []
   },
   "outputs": [],
   "source": [
    "df[['MonthlyCharges','TotalCharges']].plot.scatter(x='MonthlyCharges',y='TotalCharges')\n",
    "#plt.savefig(\"dataVisualisation/month_VS_totalCharges.png\", dpi=300)"
   ]
  },
  {
   "cell_type": "code",
   "execution_count": null,
   "id": "186b78ca-61dd-4ce1-ba99-eb8f37369505",
   "metadata": {
    "papermill": {
     "duration": null,
     "end_time": null,
     "exception": null,
     "start_time": null,
     "status": "pending"
    },
    "tags": []
   },
   "outputs": [],
   "source": [
    "#now we will ckeck the skewness of our predicted data\n",
    "# and will check the behaviour of rest of the field with churn"
   ]
  },
  {
   "cell_type": "code",
   "execution_count": null,
   "id": "904bff79-1805-4dfc-a1e6-7ceefc62e6ce",
   "metadata": {
    "papermill": {
     "duration": null,
     "end_time": null,
     "exception": null,
     "start_time": null,
     "status": "pending"
    },
    "tags": []
   },
   "outputs": [],
   "source": [
    "\n",
    "x=list(df.Churn.value_counts())\n",
    "print('No' , x[0]/(x[0]+x[1])*100 ,'%')\n",
    "print('Yes' , x[1]/(x[0]+x[1])*100 ,'%')\n",
    "df['Churn'].value_counts()"
   ]
  },
  {
   "cell_type": "code",
   "execution_count": null,
   "id": "790ffb9c-c89f-49c1-a049-86f09f66d4dc",
   "metadata": {
    "papermill": {
     "duration": null,
     "end_time": null,
     "exception": null,
     "start_time": null,
     "status": "pending"
    },
    "tags": []
   },
   "outputs": [],
   "source": [
    "colors = ['#4D3425','#E4512B']\n",
    "\n",
    "ax=(df['Churn'].value_counts()*100.0/len(df)).plot(kind='bar' , color=colors,rot=0,stacked=True,fig=(4,2))\n",
    "\n",
    "ax.yaxis.set_major_formatter(mtick.PercentFormatter())\n",
    "ax.set_ylabel('% Customers',size = 14)\n",
    "ax.set_xlabel('Churn',size = 14)\n",
    "ax.set_title('Churn Rate', size = 14)\n",
    "#plt.savefig(\"dataVisualisation/ChurnRate.png\", dpi=300)"
   ]
  },
  {
   "cell_type": "code",
   "execution_count": null,
   "id": "3941f1b8-538a-4586-8d09-c8d82d0c3b5d",
   "metadata": {
    "papermill": {
     "duration": null,
     "end_time": null,
     "exception": null,
     "start_time": null,
     "status": "pending"
    },
    "tags": []
   },
   "outputs": [],
   "source": [
    "# now we will do eda of all fields with churn"
   ]
  },
  {
   "cell_type": "code",
   "execution_count": null,
   "id": "64675bcd-3af8-4ddd-9514-afb958f7047d",
   "metadata": {
    "papermill": {
     "duration": null,
     "end_time": null,
     "exception": null,
     "start_time": null,
     "status": "pending"
    },
    "tags": []
   },
   "outputs": [],
   "source": [
    "sns.boxplot(x=df.Churn, y=df.tenure)\n",
    "#plt.savefig(\"dataVisualisation/Tenure_vs_churn.png\", dpi=300)"
   ]
  },
  {
   "cell_type": "code",
   "execution_count": null,
   "id": "b85f6969-659c-4a6d-a8a0-f1f7159a65a2",
   "metadata": {
    "papermill": {
     "duration": null,
     "end_time": null,
     "exception": null,
     "start_time": null,
     "status": "pending"
    },
    "tags": []
   },
   "outputs": [],
   "source": [
    "colors = ['#4D3425','#E4512B']\n",
    "\n",
    "contract_churn=df.groupby(['Contract','Churn']).size().unstack()\n",
    "print(contract_churn)"
   ]
  },
  {
   "cell_type": "code",
   "execution_count": null,
   "id": "be94865a-81be-4507-ab6f-36f0e15640cd",
   "metadata": {
    "papermill": {
     "duration": null,
     "end_time": null,
     "exception": null,
     "start_time": null,
     "status": "pending"
    },
    "tags": []
   },
   "outputs": [],
   "source": [
    "colors = ['#4D3425','#E4512B']\n",
    "\n",
    "contract_churn=df.groupby(['Contract','Churn']).size().unstack()\n",
    "\n",
    "print(contract_churn.T)"
   ]
  },
  {
   "cell_type": "code",
   "execution_count": null,
   "id": "3ef18b9a-00cd-4a3b-90aa-6ceac888f152",
   "metadata": {
    "papermill": {
     "duration": null,
     "end_time": null,
     "exception": null,
     "start_time": null,
     "status": "pending"
    },
    "tags": []
   },
   "outputs": [],
   "source": [
    "colors = ['#4D3425','#E4512B']\n",
    "contract_churn = df.groupby(['Contract','Churn']).size().unstack(level=0)\n",
    "\n",
    "print(contract_churn*100.0/ contract_churn.sum())"
   ]
  },
  {
   "cell_type": "code",
   "execution_count": null,
   "id": "ad2c8af8-76c9-4073-a971-37146baa3d61",
   "metadata": {
    "papermill": {
     "duration": null,
     "end_time": null,
     "exception": null,
     "start_time": null,
     "status": "pending"
    },
    "tags": []
   },
   "outputs": [],
   "source": [
    "\n",
    "colors = ['#4D3425', '#E4512B', '#1F77B4', '#FF7F0E']\n",
    "\n",
    "contract_churn = df.groupby(['Contract','Churn']).size().unstack()\n",
    "\n",
    "ax=(contract_churn.T*100.0/ contract_churn.T.sum()).T.plot(kind='bar',width=0.3,stacked=True,rot=0,figsize=(10,6),color=colors)\n",
    "\n",
    "ax.yaxis.set_major_formatter(mtick.PercentFormatter())\n",
    "\n",
    "ax.legend(loc='best',prop={'size':10},title = 'Churn')\n",
    "\n",
    "ax.set_ylabel('% Customers',size = 14)\n",
    "ax.set_title('Churn by Contract Type',size = 14)\n",
    "\n",
    "ax.set_xticklabels(ax.get_xticklabels(), rotation=45, ha='right')\n",
    "#plt.savefig(\"dataVisualisation/churn_vs_contractType.png\", dpi=300)"
   ]
  },
  {
   "cell_type": "code",
   "execution_count": null,
   "id": "0c7dfa99-cc85-409c-9461-076550f51656",
   "metadata": {
    "papermill": {
     "duration": null,
     "end_time": null,
     "exception": null,
     "start_time": null,
     "status": "pending"
    },
    "tags": []
   },
   "outputs": [],
   "source": [
    "df.MonthlyCharges.value_counts()"
   ]
  },
  {
   "cell_type": "code",
   "execution_count": null,
   "id": "62209e65-db65-4967-a4e0-a083c5eaeb0a",
   "metadata": {
    "papermill": {
     "duration": null,
     "end_time": null,
     "exception": null,
     "start_time": null,
     "status": "pending"
    },
    "tags": []
   },
   "outputs": [],
   "source": [
    "ax=sns.kdeplot(df.MonthlyCharges[(df['Churn'] == 'No')],color=\"Red\", shade = True)\n",
    "\n",
    "ax=sns.kdeplot(df.MonthlyCharges[(df['Churn'] == 'Yes')],color='blue',shade=True)\n",
    "\n",
    "ax.legend([\"Not Churn\",\"Churn\"],loc='upper right')\n",
    "\n",
    "ax.set_ylabel('Density')\n",
    "ax.set_xlabel('Monthly Charges')\n",
    "ax.set_title('Distribution of monthly charges by churn')\n",
    "#plt.savefig(\"dataVisualisation/Monthly_ChargesDistribution.png\", dpi=300)"
   ]
  },
  {
   "cell_type": "code",
   "execution_count": null,
   "id": "12e0c509-0736-4951-b38b-a695585058d4",
   "metadata": {
    "papermill": {
     "duration": null,
     "end_time": null,
     "exception": null,
     "start_time": null,
     "status": "pending"
    },
    "tags": []
   },
   "outputs": [],
   "source": [
    "#we can see that highest % of customer churned when the monthly charges are high\n",
    "#below method also we can use it to visualise the same using histogram"
   ]
  },
  {
   "cell_type": "code",
   "execution_count": null,
   "id": "6b0e44a5-270c-4aaa-9c9c-a175eb75b44d",
   "metadata": {
    "papermill": {
     "duration": null,
     "end_time": null,
     "exception": null,
     "start_time": null,
     "status": "pending"
    },
    "tags": []
   },
   "outputs": [],
   "source": [
    "\n",
    "# Define the data\n",
    "no_churn = df.MonthlyCharges[df['Churn'] == 'No']\n",
    "yes_churn = df.MonthlyCharges[df['Churn'] == 'Yes']\n",
    "\n",
    "# Create the plot\n",
    "plt.figure(figsize=(10, 6))\n",
    "\n",
    "# Plot histograms\n",
    "plt.hist(no_churn, bins=30, color='red', alpha=0.5, label='Not Churn')\n",
    "plt.hist(yes_churn, bins=30, color='blue', alpha=0.5, label='Churn')\n",
    "\n",
    "# Add labels and title\n",
    "plt.xlabel('Monthly Charges')\n",
    "plt.ylabel('Frequency')\n",
    "plt.title('Distribution of Monthly Charges by Churn')\n",
    "plt.legend(loc='upper right')\n",
    "\n",
    "# Show the plot\n",
    "plt.show()\n"
   ]
  },
  {
   "cell_type": "code",
   "execution_count": null,
   "id": "4220ad3a-0065-4d79-917a-93bc5164f8b4",
   "metadata": {
    "papermill": {
     "duration": null,
     "end_time": null,
     "exception": null,
     "start_time": null,
     "status": "pending"
    },
    "tags": []
   },
   "outputs": [],
   "source": [
    "df.TotalCharges.value_counts().head()"
   ]
  },
  {
   "cell_type": "code",
   "execution_count": null,
   "id": "3c05f07e-81b3-4cbf-bf62-83682441d929",
   "metadata": {
    "papermill": {
     "duration": null,
     "end_time": null,
     "exception": null,
     "start_time": null,
     "status": "pending"
    },
    "tags": []
   },
   "outputs": [],
   "source": [
    "\n",
    "# Define the data\n",
    "no_churn = df.TotalCharges[df['Churn'] == 'No']\n",
    "yes_churn = df.TotalCharges[df['Churn'] == 'Yes']\n",
    "\n",
    "# Create the plot\n",
    "plt.figure(figsize=(10, 6))\n",
    "\n",
    "# Plot histograms\n",
    "plt.hist(no_churn, bins=30, color='red', alpha=0.5, label='Not Churn')\n",
    "plt.hist(yes_churn, bins=30, color='blue', alpha=0.5, label='Churn')\n",
    "\n",
    "# Add labels and title\n",
    "plt.xlabel('TotalCharges')\n",
    "plt.ylabel('Frequency')\n",
    "plt.title('Distribution of TotalCharges by Churn')\n",
    "plt.legend(loc='upper right')\n",
    "\n",
    "# Show the plot\n",
    "plt.show()\n",
    "\n",
    "#result --churn rate is high when total charges are low\n",
    "#plt.savefig(\"dataVisualisation/Totaol_charges_Distribution.png\", dpi=300)"
   ]
  },
  {
   "cell_type": "code",
   "execution_count": null,
   "id": "b1387387-f08d-4b4a-a263-148653f7114d",
   "metadata": {
    "papermill": {
     "duration": null,
     "end_time": null,
     "exception": null,
     "start_time": null,
     "status": "pending"
    },
    "tags": []
   },
   "outputs": [],
   "source": [
    "df2[['SeniorCitizen','Churn']].groupby('SeniorCitizen').mean()"
   ]
  },
  {
   "cell_type": "code",
   "execution_count": null,
   "id": "8339adcc-d010-4931-8ee4-61297e92a780",
   "metadata": {
    "papermill": {
     "duration": null,
     "end_time": null,
     "exception": null,
     "start_time": null,
     "status": "pending"
    },
    "tags": []
   },
   "outputs": [],
   "source": [
    "colors = ['#4D3425','#E4512B']\n",
    "\n",
    "sen_churn=df.groupby(['SeniorCitizen','Churn']).size().unstack()\n",
    "ax=(sen_churn.T*100.0/sen_churn.T.sum()).T.plot(kind='bar',stacked=True,rot=0,width = 0.2,figsize=(8,6),color=colors)\n",
    "\n",
    "ax.legend(['No','Yes'],title='Churn',loc='center')\n",
    "\n",
    "ax.set_ylabel('% Customers')\n",
    "ax.set_title('Churn by Seniority Level',size = 14)\n",
    "ax.yaxis.set_major_formatter(mtick.PercentFormatter())\n",
    "#plt.savefig(\"dataVisualisation/churn_vs_seniority.png\", dpi=300)"
   ]
  },
  {
   "cell_type": "code",
   "execution_count": null,
   "id": "0ffb4864-c25f-47c4-8e72-cb56791df08f",
   "metadata": {
    "papermill": {
     "duration": null,
     "end_time": null,
     "exception": null,
     "start_time": null,
     "status": "pending"
    },
    "tags": []
   },
   "outputs": [],
   "source": [
    "df_dummies = pd.get_dummies(df2)\n",
    "df_dummies.head()"
   ]
  },
  {
   "cell_type": "code",
   "execution_count": null,
   "id": "93525dc6-7373-489c-8983-a6e705706873",
   "metadata": {
    "papermill": {
     "duration": null,
     "end_time": null,
     "exception": null,
     "start_time": null,
     "status": "pending"
    },
    "tags": []
   },
   "outputs": [],
   "source": [
    "#now  EDA is done  now we will go with some predictive models and compare their performances.\n",
    "# We will use the data frame where we had created dummy variables\n",
    "\n",
    "#1. Logistic Regression"
   ]
  },
  {
   "cell_type": "code",
   "execution_count": null,
   "id": "6c7eb057-1e22-42bd-b032-1f3127258c5d",
   "metadata": {
    "papermill": {
     "duration": null,
     "end_time": null,
     "exception": null,
     "start_time": null,
     "status": "pending"
    },
    "tags": []
   },
   "outputs": [],
   "source": [
    "Y=df_dummies['Churn'].values\n",
    "print(Y)"
   ]
  },
  {
   "cell_type": "code",
   "execution_count": null,
   "id": "71f1e175-b1d1-4f69-9af7-e18bd1e445c2",
   "metadata": {
    "papermill": {
     "duration": null,
     "end_time": null,
     "exception": null,
     "start_time": null,
     "status": "pending"
    },
    "tags": []
   },
   "outputs": [],
   "source": [
    "X=df_dummies.drop(columns=['Churn'])"
   ]
  },
  {
   "cell_type": "code",
   "execution_count": null,
   "id": "4a6ee39e-d503-485c-949c-7ebdad15ac42",
   "metadata": {
    "papermill": {
     "duration": null,
     "end_time": null,
     "exception": null,
     "start_time": null,
     "status": "pending"
    },
    "tags": []
   },
   "outputs": [],
   "source": [
    "\"\"\"The fit(data) method is used to compute the mean and std dev for a given feature so that it can be used further for scaling.\n",
    "The transform(data) method is used to perform scaling using mean and std dev calculated using the .fit() method.\n",
    "The fit_transform() method does both fit and transform.\"\"\""
   ]
  },
  {
   "cell_type": "code",
   "execution_count": null,
   "id": "bdc30496-ce86-4ef9-82c4-dc33ce2be724",
   "metadata": {
    "papermill": {
     "duration": null,
     "end_time": null,
     "exception": null,
     "start_time": null,
     "status": "pending"
    },
    "tags": []
   },
   "outputs": [],
   "source": [
    "Y=df_dummies['Churn'].values\n",
    "X=df_dummies.drop(columns=['Churn'])\n",
    "from sklearn.preprocessing import MinMaxScaler\n",
    "\n",
    "features=X.columns.values\n",
    "scaler=MinMaxScaler(feature_range=(0,1))\n",
    "model=scaler.fit(X) #will find mean and sd\n",
    "scaled_model=model.transform(X)  #will transform the data into same range i.e., scaling of data will be done\n",
    "X.columns=features\n"
   ]
  },
  {
   "cell_type": "code",
   "execution_count": null,
   "id": "24c6f1ea-96f3-477a-ace8-5783ed4e84b5",
   "metadata": {
    "papermill": {
     "duration": null,
     "end_time": null,
     "exception": null,
     "start_time": null,
     "status": "pending"
    },
    "tags": []
   },
   "outputs": [],
   "source": [
    "print(features)"
   ]
  },
  {
   "cell_type": "code",
   "execution_count": null,
   "id": "303872ed-2892-4098-81a9-0dc14554e21c",
   "metadata": {
    "papermill": {
     "duration": null,
     "end_time": null,
     "exception": null,
     "start_time": null,
     "status": "pending"
    },
    "tags": []
   },
   "outputs": [],
   "source": [
    "from sklearn.model_selection import train_test_split \n",
    "X_train, X_test, y_train, y_test=train_test_split(X,Y,test_size=0.3,random_state=101)"
   ]
  },
  {
   "cell_type": "code",
   "execution_count": null,
   "id": "c9a4c77c-e05b-4e22-ad56-0a85de22fc76",
   "metadata": {
    "papermill": {
     "duration": null,
     "end_time": null,
     "exception": null,
     "start_time": null,
     "status": "pending"
    },
    "tags": []
   },
   "outputs": [],
   "source": [
    "\n",
    "from sklearn.linear_model import LogisticRegression\n",
    "\n",
    "model = LogisticRegression(solver='liblinear', max_iter=200)\n",
    "result = model.fit(X_train, y_train)\n"
   ]
  },
  {
   "cell_type": "code",
   "execution_count": null,
   "id": "a922a42b-a735-4a8b-9169-337f523a154a",
   "metadata": {
    "papermill": {
     "duration": null,
     "end_time": null,
     "exception": null,
     "start_time": null,
     "status": "pending"
    },
    "tags": []
   },
   "outputs": [],
   "source": [
    "import joblib\n",
    "\n",
    "# Save the model to a file\n",
    "joblib.dump(model, 'model.joblib')"
   ]
  },
  {
   "cell_type": "code",
   "execution_count": null,
   "id": "fa18d5ea-127a-4118-a897-cd4d57f79144",
   "metadata": {
    "papermill": {
     "duration": null,
     "end_time": null,
     "exception": null,
     "start_time": null,
     "status": "pending"
    },
    "tags": []
   },
   "outputs": [],
   "source": [
    "model = joblib.load('model.joblib')"
   ]
  },
  {
   "cell_type": "code",
   "execution_count": null,
   "id": "5e19b1da-3bbb-4540-868d-46176cc40d84",
   "metadata": {
    "papermill": {
     "duration": null,
     "end_time": null,
     "exception": null,
     "start_time": null,
     "status": "pending"
    },
    "tags": []
   },
   "outputs": [],
   "source": [
    "from sklearn import metrics\n",
    "\n",
    "prediction_test=model.predict(X_test) #\n",
    "#y_prediction_test_proba = model.predict_proba(X_test)\n",
    "print('test :',metrics.accuracy_score(y_test,prediction_test))\n",
    "prediction_test1=model.predict(X_train)\n",
    "print('train :',metrics.accuracy_score(y_train,prediction_test1))"
   ]
  },
  {
   "cell_type": "code",
   "execution_count": null,
   "id": "79059a94-a1c6-4d3f-8924-29f1a8ec1a7d",
   "metadata": {
    "papermill": {
     "duration": null,
     "end_time": null,
     "exception": null,
     "start_time": null,
     "status": "pending"
    },
    "tags": []
   },
   "outputs": [],
   "source": []
  },
  {
   "cell_type": "code",
   "execution_count": null,
   "id": "a1f6eefa-b372-4ca2-9d2a-3ab82110cd13",
   "metadata": {
    "papermill": {
     "duration": null,
     "end_time": null,
     "exception": null,
     "start_time": null,
     "status": "pending"
    },
    "tags": []
   },
   "outputs": [],
   "source": [
    "def confusion_matrix_plot(X_train, y_train, X_test, y_test, y_pred, classifier, classifier_name):\n",
    "    cm = confusion_matrix(y_pred,y_test)\n",
    "    disp = ConfusionMatrixDisplay(confusion_matrix=cm, display_labels=[\"No Churn\", \"Churn\"])\n",
    "    disp.plot()\n",
    "    plt.title(f\"Confusion Matrix - {classifier_name}\")\n",
    "    plt.show()\n",
    "    \n",
    "    print(f\"Accuracy Score Test = {accuracy_score(y_pred,y_test)}\")\n",
    "    print(f\"Accuracy Score Train = {classifier.score(X_train,y_train)}\")\n",
    "    return print(\"\\n\")"
   ]
  },
  {
   "cell_type": "code",
   "execution_count": null,
   "id": "58730676-9195-497f-a698-7437f3ef7497",
   "metadata": {
    "papermill": {
     "duration": null,
     "end_time": null,
     "exception": null,
     "start_time": null,
     "status": "pending"
    },
    "tags": []
   },
   "outputs": [],
   "source": [
    "confusion_matrix_plot(X_train,y_train,X_test,y_test, prediction_test,model,\"Logistic Regression\")\n",
    "\n",
    "#plt.savefig(\"dataVisualisation/logistic_confusion_matrix.png\", dpi=300)"
   ]
  },
  {
   "cell_type": "code",
   "execution_count": null,
   "id": "031b72f0-47aa-472a-8a4c-98357f84745b",
   "metadata": {
    "papermill": {
     "duration": null,
     "end_time": null,
     "exception": null,
     "start_time": null,
     "status": "pending"
    },
    "tags": []
   },
   "outputs": [],
   "source": [
    "model.coef_[0]"
   ]
  },
  {
   "cell_type": "code",
   "execution_count": null,
   "id": "d6c1d947-beeb-449b-84ca-07245d02b658",
   "metadata": {
    "papermill": {
     "duration": null,
     "end_time": null,
     "exception": null,
     "start_time": null,
     "status": "pending"
    },
    "scrolled": true,
    "tags": []
   },
   "outputs": [],
   "source": [
    "Columns=X.columns.values\n",
    "print(Columns)"
   ]
  },
  {
   "cell_type": "code",
   "execution_count": null,
   "id": "8935c6e7-9ecd-4dea-9a83-7d87401302a6",
   "metadata": {
    "papermill": {
     "duration": null,
     "end_time": null,
     "exception": null,
     "start_time": null,
     "status": "pending"
    },
    "tags": []
   },
   "outputs": [],
   "source": [
    "\n",
    "weights = pd.Series(model.coef_[0], index=X.columns.values)\n",
    "\n",
    "# Sort and plot the top 10 coefficients as a line plot\n",
    "weights.sort_values(ascending=False)[:10].plot(kind='line', marker='o')\n",
    "plt.title('Top 10 Feature Weights')\n",
    "plt.xlabel('Feature')\n",
    "plt.ylabel('Weight')\n",
    "plt.xticks(rotation=45)\n",
    "plt.show()\n",
    "\n"
   ]
  },
  {
   "cell_type": "code",
   "execution_count": null,
   "id": "52a82b58-0f86-45bb-ac74-066bb55474d7",
   "metadata": {
    "papermill": {
     "duration": null,
     "end_time": null,
     "exception": null,
     "start_time": null,
     "status": "pending"
    },
    "tags": []
   },
   "outputs": [],
   "source": [
    "weights=pd.Series(model.coef_[0],index=X.columns.values)\n",
    "\n",
    "print(weights.sort_values(ascending=False)[:10].plot(kind='bar'))\n",
    "#plt.savefig(\"dataVisualisation/weights_first_10.png\", dpi=300)"
   ]
  },
  {
   "cell_type": "code",
   "execution_count": null,
   "id": "6321f99c-a018-4ce9-a653-7d0c6191888e",
   "metadata": {
    "papermill": {
     "duration": null,
     "end_time": null,
     "exception": null,
     "start_time": null,
     "status": "pending"
    },
    "tags": []
   },
   "outputs": [],
   "source": [
    "weights=pd.Series(model.coef_[0],index=X.columns.values)\n",
    "print(weights.sort_values(ascending=False)[-10:].plot(kind='bar'))\n",
    "#plt.savefig(\"dataVisualisation/wt_last_10.png\", dpi=300)\n",
    "#Negative relation means that likeliness of churn decreases with that variable"
   ]
  },
  {
   "cell_type": "code",
   "execution_count": null,
   "id": "16865fb9-f6be-4ddd-b858-b49bfd47cb56",
   "metadata": {
    "papermill": {
     "duration": null,
     "end_time": null,
     "exception": null,
     "start_time": null,
     "status": "pending"
    },
    "tags": []
   },
   "outputs": [],
   "source": [
    "first_X_test_record = X_test.iloc[1]\n",
    "first_y_test_record = y_test[1]\n",
    "print(first_X_test_record)\n",
    "print(first_y_test_record)\n",
    "\n"
   ]
  },
  {
   "cell_type": "code",
   "execution_count": null,
   "id": "7bcef796-6921-4966-b4ec-c2a0ba2135a2",
   "metadata": {
    "papermill": {
     "duration": null,
     "end_time": null,
     "exception": null,
     "start_time": null,
     "status": "pending"
    },
    "tags": []
   },
   "outputs": [],
   "source": [
    "\n",
    "# Extracting one record from X_test and reshaping it\n",
    "single_X_test_record = X_test.iloc[1].values.reshape(1, -1) # Reshape to 2D array\n",
    "\n",
    "# Making the prediction\n",
    "prediction_test = model.predict(single_X_test_record)\n",
    "\n",
    "print(prediction_test)\n"
   ]
  },
  {
   "cell_type": "code",
   "execution_count": null,
   "id": "ba7cdab7-54c0-46cd-9694-c376d9fb73ea",
   "metadata": {
    "papermill": {
     "duration": null,
     "end_time": null,
     "exception": null,
     "start_time": null,
     "status": "pending"
    },
    "tags": []
   },
   "outputs": [],
   "source": [
    "import os\n",
    "from google.cloud import storage\n",
    "\n",
    "def upload_blob(bucket_name, source_file_name, destination_blob_name):\n",
    "    \"\"\"Uploads a file to the bucket.\"\"\"\n",
    "    storage_client = storage.Client()\n",
    "    bucket = storage_client.bucket(bucket_name)\n",
    "    blob = bucket.blob(destination_blob_name)\n",
    "    blob.upload_from_filename(source_file_name)\n",
    "    print(f\"File {source_file_name} uploaded to {destination_blob_name}.\")\n",
    "\n",
    "def upload_directory(bucket_name, source_directory, destination_directory):\n",
    "    \"\"\"Uploads all files in a directory to the bucket.\"\"\"\n",
    "    storage_client = storage.Client()\n",
    "    bucket = storage_client.bucket(bucket_name)\n",
    "\n",
    "    for root, _, files in os.walk(source_directory):\n",
    "        for file in files:\n",
    "            file_path = os.path.join(root, file)\n",
    "            blob_path = os.path.join(destination_directory, file)\n",
    "            blob = bucket.blob(blob_path)\n",
    "            blob.upload_from_filename(file_path)\n",
    "            print(f\"File {file_path} uploaded to {blob_path}.\")\n",
    "\n",
    "# Example usage\n",
    "bucket_name = 'churn-model-prediction'\n",
    "source_directory = '/home/jupyter/ChurnPropensity/dataVisualisation'\n",
    "destination_directory = 'VizualisationForLooker'\n",
    "\n",
    "upload_directory(bucket_name, source_directory, destination_directory)\n"
   ]
  },
  {
   "cell_type": "code",
   "execution_count": null,
   "id": "71800970-6923-4772-a768-b9c1c3d1d7c5",
   "metadata": {
    "papermill": {
     "duration": null,
     "end_time": null,
     "exception": null,
     "start_time": null,
     "status": "pending"
    },
    "tags": []
   },
   "outputs": [],
   "source": [
    "#Random forest ---------------------------------------------------------------------------------------------------\n",
    "\n",
    "from sklearn import metrics\n",
    "y=df_dummies['Churn'].values\n",
    "X=df_dummies.drop(columns=['Churn'])\n",
    "from sklearn.ensemble import RandomForestClassifier\n",
    "X_train, X_test, y_train, y_test=train_test_split(X,y,test_size=0.2,random_state=101)\n",
    "model_rf=RandomForestClassifier(n_estimators=1000 , oob_score = True, n_jobs = -1, random_state =50, max_features = \"sqrt\",max_leaf_nodes = 30)\n",
    "result=model_rf.fit(X_train, y_train)\n",
    "prediction_test=model_rf.predict(X_test)\n",
    "print(metrics.accuracy_score(y_test, prediction_test))\n"
   ]
  },
  {
   "cell_type": "code",
   "execution_count": null,
   "id": "6ef40d78-30c0-4dd7-b985-19b93e3dcbaa",
   "metadata": {
    "papermill": {
     "duration": null,
     "end_time": null,
     "exception": null,
     "start_time": null,
     "status": "pending"
    },
    "tags": []
   },
   "outputs": [],
   "source": [
    "print(\"testing flow 5_48\")"
   ]
  }
 ],
 "metadata": {
  "environment": {
   "kernel": "conda-base-py",
   "name": "workbench-notebooks.m130",
   "type": "gcloud",
   "uri": "us-docker.pkg.dev/deeplearning-platform-release/gcr.io/workbench-notebooks:m130"
  },
  "kernelspec": {
   "display_name": "Python 3 (ipykernel) (Local)",
   "language": "python",
   "name": "conda-base-py"
  },
  "language_info": {
   "codemirror_mode": {
    "name": "ipython",
    "version": 3
   },
   "file_extension": ".py",
   "mimetype": "text/x-python",
   "name": "python",
   "nbconvert_exporter": "python",
   "pygments_lexer": "ipython3",
   "version": "3.10.18"
  },
  "papermill": {
   "default_parameters": {},
   "duration": 4.480642,
   "end_time": "2025-06-27T12:53:20.068857",
   "environment_variables": {},
   "exception": true,
   "input_path": "modelPrototype.ipynb",
   "output_path": "executed_notebooks/modelPrototype_1_output_20250627_125315.ipynb",
   "parameters": {
    "bucket_name": "churn-model-prediction",
    "destination_file_name": "tmp/Telecom-Customer-Churn.csv",
    "source_blob_name": "Telecom-Customer-Churn.csv"
   },
   "start_time": "2025-06-27T12:53:15.588215",
   "version": "2.6.0"
  }
 },
 "nbformat": 4,
 "nbformat_minor": 5
}