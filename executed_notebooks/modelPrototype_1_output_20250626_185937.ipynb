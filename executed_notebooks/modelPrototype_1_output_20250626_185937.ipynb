{
 "cells": [
  {
   "cell_type": "code",
   "execution_count": 1,
   "id": "20f46993",
   "metadata": {
    "execution": {
     "iopub.execute_input": "2025-06-26T18:59:40.895579Z",
     "iopub.status.busy": "2025-06-26T18:59:40.894377Z",
     "iopub.status.idle": "2025-06-26T18:59:40.906128Z",
     "shell.execute_reply": "2025-06-26T18:59:40.905120Z"
    },
    "papermill": {
     "duration": 0.030236,
     "end_time": "2025-06-26T18:59:40.908611",
     "exception": false,
     "start_time": "2025-06-26T18:59:40.878375",
     "status": "completed"
    },
    "tags": [
     "injected-parameters"
    ]
   },
   "outputs": [],
   "source": [
    "# Parameters\n",
    "bucket_name = \"churn-model-prediction\"\n",
    "source_blob_name = \"Telecom-Customer-Churn.csv\"\n",
    "destination_file_name = \"/home/jupyter/ChurnPropensity/dataset1/Telecom-Customer-Churn.csv\"\n"
   ]
  },
  {
   "cell_type": "code",
   "execution_count": 2,
   "id": "6d66df6c-8b54-4cc8-bff0-2140bf05a6fe",
   "metadata": {
    "editable": true,
    "execution": {
     "iopub.execute_input": "2025-06-26T18:59:40.938971Z",
     "iopub.status.busy": "2025-06-26T18:59:40.937939Z",
     "iopub.status.idle": "2025-06-26T18:59:40.943715Z",
     "shell.execute_reply": "2025-06-26T18:59:40.942403Z"
    },
    "papermill": {
     "duration": 0.023929,
     "end_time": "2025-06-26T18:59:40.945850",
     "exception": false,
     "start_time": "2025-06-26T18:59:40.921921",
     "status": "completed"
    },
    "slideshow": {
     "slide_type": ""
    },
    "tags": []
   },
   "outputs": [],
   "source": [
    "# Parameters\n",
    "bucket_name = \"default_bucket\"\n",
    "source_blob_name = \"default_blob.csv\"\n",
    "destination_file_name = \"default_path.csv\"\n"
   ]
  },
  {
   "cell_type": "code",
   "execution_count": 3,
   "id": "4c97e9de-eccf-423d-b771-d750735f4c7d",
   "metadata": {
    "execution": {
     "iopub.execute_input": "2025-06-26T18:59:40.973205Z",
     "iopub.status.busy": "2025-06-26T18:59:40.972833Z",
     "iopub.status.idle": "2025-06-26T18:59:41.820807Z",
     "shell.execute_reply": "2025-06-26T18:59:41.819647Z"
    },
    "papermill": {
     "duration": 0.865106,
     "end_time": "2025-06-26T18:59:41.823673",
     "exception": false,
     "start_time": "2025-06-26T18:59:40.958567",
     "status": "completed"
    },
    "tags": []
   },
   "outputs": [],
   "source": [
    "import pandas as pd\n",
    "import seaborn as sns\n",
    "import matplotlib.pyplot as plt\n",
    "import numpy as np\n",
    "import matplotlib.ticker as mtick\n",
    "import math\n",
    "from sklearn.preprocessing import OneHotEncoder, MinMaxScaler\n",
    "from sklearn.model_selection import train_test_split, RandomizedSearchCV\n",
    "from sklearn.ensemble import RandomForestClassifier\n",
    "from sklearn.metrics import accuracy_score, confusion_matrix, classification_report, roc_curve, roc_auc_score\n",
    "from sklearn.metrics import precision_recall_curve, auc, f1_score, ConfusionMatrixDisplay, precision_score, recall_score"
   ]
  },
  {
   "cell_type": "code",
   "execution_count": 4,
   "id": "6c2da69a-8564-46f8-a176-73bfed8d5bc1",
   "metadata": {
    "execution": {
     "iopub.execute_input": "2025-06-26T18:59:41.852979Z",
     "iopub.status.busy": "2025-06-26T18:59:41.852378Z",
     "iopub.status.idle": "2025-06-26T18:59:41.959232Z",
     "shell.execute_reply": "2025-06-26T18:59:41.958139Z"
    },
    "papermill": {
     "duration": 0.124671,
     "end_time": "2025-06-26T18:59:41.961695",
     "exception": false,
     "start_time": "2025-06-26T18:59:41.837024",
     "status": "completed"
    },
    "tags": []
   },
   "outputs": [
    {
     "name": "stdout",
     "output_type": "stream",
     "text": [
      "Blob Telecom-Customer-Churn.csv downloaded to /home/jupyter/ChurnPropensity/dataset1/Telecom-Customer-Churn.csv.\n"
     ]
    }
   ],
   "source": [
    "from google.cloud import storage\n",
    "\n",
    "def download_blob(bucket_name, source_blob_name, destination_file_name):\n",
    "    \"\"\"Downloads a blob from the bucket.\"\"\"\n",
    "    storage_client = storage.Client()\n",
    "    bucket = storage_client.bucket(bucket_name)\n",
    "    blob = bucket.blob(source_blob_name)\n",
    "    blob.download_to_filename(destination_file_name)\n",
    "\n",
    "    print(f\"Blob {source_blob_name} downloaded to {destination_file_name}.\")\n",
    "\n",
    "#\n",
    "bucket_name = 'churn-model-prediction'\n",
    "source_blob_name = 'Telecom-Customer-Churn.csv'\n",
    "destination_file_name = '/home/jupyter/ChurnPropensity/dataset1/Telecom-Customer-Churn.csv'\n",
    "\n",
    "download_blob(bucket_name, source_blob_name, destination_file_name)\n"
   ]
  },
  {
   "cell_type": "code",
   "execution_count": 5,
   "id": "42fd23ee-f3a9-4936-9d9c-e97eeaac78ba",
   "metadata": {
    "execution": {
     "iopub.execute_input": "2025-06-26T18:59:41.992439Z",
     "iopub.status.busy": "2025-06-26T18:59:41.990731Z",
     "iopub.status.idle": "2025-06-26T18:59:42.034469Z",
     "shell.execute_reply": "2025-06-26T18:59:42.033398Z"
    },
    "papermill": {
     "duration": 0.061718,
     "end_time": "2025-06-26T18:59:42.036963",
     "exception": false,
     "start_time": "2025-06-26T18:59:41.975245",
     "status": "completed"
    },
    "tags": []
   },
   "outputs": [],
   "source": [
    "#df = pd.read_csv('Telecom-Customer-Churn.csv',index_col = 'customerID')\n",
    "df = pd.read_csv('dataset1/Telecom-Customer-Churn.csv')"
   ]
  },
  {
   "cell_type": "code",
   "execution_count": 6,
   "id": "9f7a7627-a4aa-42c8-be89-5dd06c7264ab",
   "metadata": {
    "execution": {
     "iopub.execute_input": "2025-06-26T18:59:42.065177Z",
     "iopub.status.busy": "2025-06-26T18:59:42.064790Z",
     "iopub.status.idle": "2025-06-26T18:59:42.090146Z",
     "shell.execute_reply": "2025-06-26T18:59:42.089083Z"
    },
    "papermill": {
     "duration": 0.042461,
     "end_time": "2025-06-26T18:59:42.092573",
     "exception": false,
     "start_time": "2025-06-26T18:59:42.050112",
     "status": "completed"
    },
    "tags": []
   },
   "outputs": [
    {
     "data": {
      "text/html": [
       "<div>\n",
       "<style scoped>\n",
       "    .dataframe tbody tr th:only-of-type {\n",
       "        vertical-align: middle;\n",
       "    }\n",
       "\n",
       "    .dataframe tbody tr th {\n",
       "        vertical-align: top;\n",
       "    }\n",
       "\n",
       "    .dataframe thead th {\n",
       "        text-align: right;\n",
       "    }\n",
       "</style>\n",
       "<table border=\"1\" class=\"dataframe\">\n",
       "  <thead>\n",
       "    <tr style=\"text-align: right;\">\n",
       "      <th></th>\n",
       "      <th>customerID</th>\n",
       "      <th>gender</th>\n",
       "      <th>SeniorCitizen</th>\n",
       "      <th>Partner</th>\n",
       "      <th>Dependents</th>\n",
       "      <th>tenure</th>\n",
       "      <th>PhoneService</th>\n",
       "      <th>MultipleLines</th>\n",
       "      <th>InternetService</th>\n",
       "      <th>OnlineSecurity</th>\n",
       "      <th>...</th>\n",
       "      <th>DeviceProtection</th>\n",
       "      <th>TechSupport</th>\n",
       "      <th>StreamingTV</th>\n",
       "      <th>StreamingMovies</th>\n",
       "      <th>Contract</th>\n",
       "      <th>PaperlessBilling</th>\n",
       "      <th>PaymentMethod</th>\n",
       "      <th>MonthlyCharges</th>\n",
       "      <th>TotalCharges</th>\n",
       "      <th>Churn</th>\n",
       "    </tr>\n",
       "  </thead>\n",
       "  <tbody>\n",
       "    <tr>\n",
       "      <th>0</th>\n",
       "      <td>7590-VHVEG</td>\n",
       "      <td>Female</td>\n",
       "      <td>0</td>\n",
       "      <td>Yes</td>\n",
       "      <td>No</td>\n",
       "      <td>1</td>\n",
       "      <td>No</td>\n",
       "      <td>No phone service</td>\n",
       "      <td>DSL</td>\n",
       "      <td>No</td>\n",
       "      <td>...</td>\n",
       "      <td>No</td>\n",
       "      <td>No</td>\n",
       "      <td>No</td>\n",
       "      <td>No</td>\n",
       "      <td>Month-to-month</td>\n",
       "      <td>Yes</td>\n",
       "      <td>Electronic check</td>\n",
       "      <td>29.85</td>\n",
       "      <td>29.85</td>\n",
       "      <td>No</td>\n",
       "    </tr>\n",
       "    <tr>\n",
       "      <th>1</th>\n",
       "      <td>5575-GNVDE</td>\n",
       "      <td>Male</td>\n",
       "      <td>0</td>\n",
       "      <td>No</td>\n",
       "      <td>No</td>\n",
       "      <td>34</td>\n",
       "      <td>Yes</td>\n",
       "      <td>No</td>\n",
       "      <td>DSL</td>\n",
       "      <td>Yes</td>\n",
       "      <td>...</td>\n",
       "      <td>Yes</td>\n",
       "      <td>No</td>\n",
       "      <td>No</td>\n",
       "      <td>No</td>\n",
       "      <td>One year</td>\n",
       "      <td>No</td>\n",
       "      <td>Mailed check</td>\n",
       "      <td>56.95</td>\n",
       "      <td>1889.5</td>\n",
       "      <td>No</td>\n",
       "    </tr>\n",
       "    <tr>\n",
       "      <th>2</th>\n",
       "      <td>3668-QPYBK</td>\n",
       "      <td>Male</td>\n",
       "      <td>0</td>\n",
       "      <td>No</td>\n",
       "      <td>No</td>\n",
       "      <td>2</td>\n",
       "      <td>Yes</td>\n",
       "      <td>No</td>\n",
       "      <td>DSL</td>\n",
       "      <td>Yes</td>\n",
       "      <td>...</td>\n",
       "      <td>No</td>\n",
       "      <td>No</td>\n",
       "      <td>No</td>\n",
       "      <td>No</td>\n",
       "      <td>Month-to-month</td>\n",
       "      <td>Yes</td>\n",
       "      <td>Mailed check</td>\n",
       "      <td>53.85</td>\n",
       "      <td>108.15</td>\n",
       "      <td>Yes</td>\n",
       "    </tr>\n",
       "    <tr>\n",
       "      <th>3</th>\n",
       "      <td>7795-CFOCW</td>\n",
       "      <td>Male</td>\n",
       "      <td>0</td>\n",
       "      <td>No</td>\n",
       "      <td>No</td>\n",
       "      <td>45</td>\n",
       "      <td>No</td>\n",
       "      <td>No phone service</td>\n",
       "      <td>DSL</td>\n",
       "      <td>Yes</td>\n",
       "      <td>...</td>\n",
       "      <td>Yes</td>\n",
       "      <td>Yes</td>\n",
       "      <td>No</td>\n",
       "      <td>No</td>\n",
       "      <td>One year</td>\n",
       "      <td>No</td>\n",
       "      <td>Bank transfer (automatic)</td>\n",
       "      <td>42.30</td>\n",
       "      <td>1840.75</td>\n",
       "      <td>No</td>\n",
       "    </tr>\n",
       "    <tr>\n",
       "      <th>4</th>\n",
       "      <td>9237-HQITU</td>\n",
       "      <td>Female</td>\n",
       "      <td>0</td>\n",
       "      <td>No</td>\n",
       "      <td>No</td>\n",
       "      <td>2</td>\n",
       "      <td>Yes</td>\n",
       "      <td>No</td>\n",
       "      <td>Fiber optic</td>\n",
       "      <td>No</td>\n",
       "      <td>...</td>\n",
       "      <td>No</td>\n",
       "      <td>No</td>\n",
       "      <td>No</td>\n",
       "      <td>No</td>\n",
       "      <td>Month-to-month</td>\n",
       "      <td>Yes</td>\n",
       "      <td>Electronic check</td>\n",
       "      <td>70.70</td>\n",
       "      <td>151.65</td>\n",
       "      <td>Yes</td>\n",
       "    </tr>\n",
       "  </tbody>\n",
       "</table>\n",
       "<p>5 rows × 21 columns</p>\n",
       "</div>"
      ],
      "text/plain": [
       "   customerID  gender  SeniorCitizen Partner Dependents  tenure PhoneService  \\\n",
       "0  7590-VHVEG  Female              0     Yes         No       1           No   \n",
       "1  5575-GNVDE    Male              0      No         No      34          Yes   \n",
       "2  3668-QPYBK    Male              0      No         No       2          Yes   \n",
       "3  7795-CFOCW    Male              0      No         No      45           No   \n",
       "4  9237-HQITU  Female              0      No         No       2          Yes   \n",
       "\n",
       "      MultipleLines InternetService OnlineSecurity  ... DeviceProtection  \\\n",
       "0  No phone service             DSL             No  ...               No   \n",
       "1                No             DSL            Yes  ...              Yes   \n",
       "2                No             DSL            Yes  ...               No   \n",
       "3  No phone service             DSL            Yes  ...              Yes   \n",
       "4                No     Fiber optic             No  ...               No   \n",
       "\n",
       "  TechSupport StreamingTV StreamingMovies        Contract PaperlessBilling  \\\n",
       "0          No          No              No  Month-to-month              Yes   \n",
       "1          No          No              No        One year               No   \n",
       "2          No          No              No  Month-to-month              Yes   \n",
       "3         Yes          No              No        One year               No   \n",
       "4          No          No              No  Month-to-month              Yes   \n",
       "\n",
       "               PaymentMethod MonthlyCharges  TotalCharges Churn  \n",
       "0           Electronic check          29.85         29.85    No  \n",
       "1               Mailed check          56.95        1889.5    No  \n",
       "2               Mailed check          53.85        108.15   Yes  \n",
       "3  Bank transfer (automatic)          42.30       1840.75    No  \n",
       "4           Electronic check          70.70        151.65   Yes  \n",
       "\n",
       "[5 rows x 21 columns]"
      ]
     },
     "execution_count": 6,
     "metadata": {},
     "output_type": "execute_result"
    }
   ],
   "source": [
    "df.head()"
   ]
  },
  {
   "cell_type": "code",
   "execution_count": 7,
   "id": "aceb1347-0f30-4c47-8f18-63c81f8fe477",
   "metadata": {
    "execution": {
     "iopub.execute_input": "2025-06-26T18:59:42.123044Z",
     "iopub.status.busy": "2025-06-26T18:59:42.122653Z",
     "iopub.status.idle": "2025-06-26T18:59:42.129138Z",
     "shell.execute_reply": "2025-06-26T18:59:42.128034Z"
    },
    "papermill": {
     "duration": 0.025069,
     "end_time": "2025-06-26T18:59:42.131393",
     "exception": false,
     "start_time": "2025-06-26T18:59:42.106324",
     "status": "completed"
    },
    "tags": []
   },
   "outputs": [
    {
     "data": {
      "text/plain": [
       "(7043, 21)"
      ]
     },
     "execution_count": 7,
     "metadata": {},
     "output_type": "execute_result"
    }
   ],
   "source": [
    "df.shape"
   ]
  },
  {
   "cell_type": "code",
   "execution_count": 8,
   "id": "d9faf0ee-d679-43a9-b2e7-4b87ec75d1ee",
   "metadata": {
    "execution": {
     "iopub.execute_input": "2025-06-26T18:59:42.161956Z",
     "iopub.status.busy": "2025-06-26T18:59:42.160801Z",
     "iopub.status.idle": "2025-06-26T18:59:42.168413Z",
     "shell.execute_reply": "2025-06-26T18:59:42.167244Z"
    },
    "papermill": {
     "duration": 0.025136,
     "end_time": "2025-06-26T18:59:42.170660",
     "exception": false,
     "start_time": "2025-06-26T18:59:42.145524",
     "status": "completed"
    },
    "tags": []
   },
   "outputs": [
    {
     "data": {
      "text/plain": [
       "array(['customerID', 'gender', 'SeniorCitizen', 'Partner', 'Dependents',\n",
       "       'tenure', 'PhoneService', 'MultipleLines', 'InternetService',\n",
       "       'OnlineSecurity', 'OnlineBackup', 'DeviceProtection',\n",
       "       'TechSupport', 'StreamingTV', 'StreamingMovies', 'Contract',\n",
       "       'PaperlessBilling', 'PaymentMethod', 'MonthlyCharges',\n",
       "       'TotalCharges', 'Churn'], dtype=object)"
      ]
     },
     "execution_count": 8,
     "metadata": {},
     "output_type": "execute_result"
    }
   ],
   "source": [
    "df.columns.values"
   ]
  },
  {
   "cell_type": "code",
   "execution_count": 9,
   "id": "ab6b6b28-580e-4303-9b94-88cfe3a1cbf6",
   "metadata": {
    "execution": {
     "iopub.execute_input": "2025-06-26T18:59:42.206668Z",
     "iopub.status.busy": "2025-06-26T18:59:42.206289Z",
     "iopub.status.idle": "2025-06-26T18:59:42.226880Z",
     "shell.execute_reply": "2025-06-26T18:59:42.225743Z"
    },
    "papermill": {
     "duration": 0.038366,
     "end_time": "2025-06-26T18:59:42.229249",
     "exception": false,
     "start_time": "2025-06-26T18:59:42.190883",
     "status": "completed"
    },
    "tags": []
   },
   "outputs": [
    {
     "name": "stdout",
     "output_type": "stream",
     "text": [
      "customerID unique values: ['7590-VHVEG' '5575-GNVDE' '3668-QPYBK' ... '4801-JZAZL' '8361-LTMKD'\n",
      " '3186-AJIEK']\n",
      "gender unique values: ['Female' 'Male']\n",
      "SeniorCitizen unique values: [0 1]\n",
      "Partner unique values: ['Yes' 'No']\n",
      "Dependents unique values: ['No' 'Yes']\n",
      "tenure unique values: [ 1 34  2 45  8 22 10 28 62 13 16 58 49 25 69 52 71 21 12 30 47 72 17 27\n",
      "  5 46 11 70 63 43 15 60 18 66  9  3 31 50 64 56  7 42 35 48 29 65 38 68\n",
      " 32 55 37 36 41  6  4 33 67 23 57 61 14 20 53 40 59 24 44 19 54 51 26  0\n",
      " 39]\n",
      "PhoneService unique values: ['No' 'Yes']\n",
      "MultipleLines unique values: ['No phone service' 'No' 'Yes']\n",
      "InternetService unique values: ['DSL' 'Fiber optic' 'No']\n",
      "OnlineSecurity unique values: ['No' 'Yes' 'No internet service']\n",
      "OnlineBackup unique values: ['Yes' 'No' 'No internet service']\n",
      "DeviceProtection unique values: ['No' 'Yes' 'No internet service']\n",
      "TechSupport unique values: ['No' 'Yes' 'No internet service']\n",
      "StreamingTV unique values: ['No' 'Yes' 'No internet service']\n",
      "StreamingMovies unique values: ['No' 'Yes' 'No internet service']\n",
      "Contract unique values: ['Month-to-month' 'One year' 'Two year']\n",
      "PaperlessBilling unique values: ['Yes' 'No']\n",
      "PaymentMethod unique values: ['Electronic check' 'Mailed check' 'Bank transfer (automatic)'\n",
      " 'Credit card (automatic)']\n",
      "MonthlyCharges unique values: [29.85 56.95 53.85 ... 63.1  44.2  78.7 ]\n",
      "TotalCharges unique values: ['29.85' '1889.5' '108.15' ... '346.45' '306.6' '6844.5']\n",
      "Churn unique values: ['No' 'Yes']\n"
     ]
    }
   ],
   "source": [
    "df_columns = df.columns.tolist()\n",
    "for column in df_columns:\n",
    "    unique_values = df[column].unique()\n",
    "    print(f\"{column} unique values: {unique_values}\")\n"
   ]
  },
  {
   "cell_type": "code",
   "execution_count": 10,
   "id": "5ee21d9d-c848-42ae-bad4-12868ef4bc2f",
   "metadata": {
    "execution": {
     "iopub.execute_input": "2025-06-26T18:59:42.260745Z",
     "iopub.status.busy": "2025-06-26T18:59:42.259629Z",
     "iopub.status.idle": "2025-06-26T18:59:42.269906Z",
     "shell.execute_reply": "2025-06-26T18:59:42.268426Z"
    },
    "papermill": {
     "duration": 0.028951,
     "end_time": "2025-06-26T18:59:42.272376",
     "exception": false,
     "start_time": "2025-06-26T18:59:42.243425",
     "status": "completed"
    },
    "tags": []
   },
   "outputs": [
    {
     "data": {
      "text/plain": [
       "customerID           object\n",
       "gender               object\n",
       "SeniorCitizen         int64\n",
       "Partner              object\n",
       "Dependents           object\n",
       "tenure                int64\n",
       "PhoneService         object\n",
       "MultipleLines        object\n",
       "InternetService      object\n",
       "OnlineSecurity       object\n",
       "OnlineBackup         object\n",
       "DeviceProtection     object\n",
       "TechSupport          object\n",
       "StreamingTV          object\n",
       "StreamingMovies      object\n",
       "Contract             object\n",
       "PaperlessBilling     object\n",
       "PaymentMethod        object\n",
       "MonthlyCharges      float64\n",
       "TotalCharges         object\n",
       "Churn                object\n",
       "dtype: object"
      ]
     },
     "execution_count": 10,
     "metadata": {},
     "output_type": "execute_result"
    }
   ],
   "source": [
    "df.dtypes"
   ]
  },
  {
   "cell_type": "code",
   "execution_count": 11,
   "id": "77c2b2e0-bc37-4966-87a0-322ff60f3c54",
   "metadata": {
    "execution": {
     "iopub.execute_input": "2025-06-26T18:59:42.303114Z",
     "iopub.status.busy": "2025-06-26T18:59:42.302056Z",
     "iopub.status.idle": "2025-06-26T18:59:42.321527Z",
     "shell.execute_reply": "2025-06-26T18:59:42.320172Z"
    },
    "papermill": {
     "duration": 0.037938,
     "end_time": "2025-06-26T18:59:42.324218",
     "exception": false,
     "start_time": "2025-06-26T18:59:42.286280",
     "status": "completed"
    },
    "scrolled": true,
    "tags": []
   },
   "outputs": [
    {
     "data": {
      "text/html": [
       "<div>\n",
       "<style scoped>\n",
       "    .dataframe tbody tr th:only-of-type {\n",
       "        vertical-align: middle;\n",
       "    }\n",
       "\n",
       "    .dataframe tbody tr th {\n",
       "        vertical-align: top;\n",
       "    }\n",
       "\n",
       "    .dataframe thead th {\n",
       "        text-align: right;\n",
       "    }\n",
       "</style>\n",
       "<table border=\"1\" class=\"dataframe\">\n",
       "  <thead>\n",
       "    <tr style=\"text-align: right;\">\n",
       "      <th></th>\n",
       "      <th>SeniorCitizen</th>\n",
       "      <th>tenure</th>\n",
       "      <th>MonthlyCharges</th>\n",
       "    </tr>\n",
       "  </thead>\n",
       "  <tbody>\n",
       "    <tr>\n",
       "      <th>count</th>\n",
       "      <td>7043.000000</td>\n",
       "      <td>7043.000000</td>\n",
       "      <td>7043.000000</td>\n",
       "    </tr>\n",
       "    <tr>\n",
       "      <th>mean</th>\n",
       "      <td>0.162147</td>\n",
       "      <td>32.371149</td>\n",
       "      <td>64.761692</td>\n",
       "    </tr>\n",
       "    <tr>\n",
       "      <th>std</th>\n",
       "      <td>0.368612</td>\n",
       "      <td>24.559481</td>\n",
       "      <td>30.090047</td>\n",
       "    </tr>\n",
       "    <tr>\n",
       "      <th>min</th>\n",
       "      <td>0.000000</td>\n",
       "      <td>0.000000</td>\n",
       "      <td>18.250000</td>\n",
       "    </tr>\n",
       "    <tr>\n",
       "      <th>25%</th>\n",
       "      <td>0.000000</td>\n",
       "      <td>9.000000</td>\n",
       "      <td>35.500000</td>\n",
       "    </tr>\n",
       "    <tr>\n",
       "      <th>50%</th>\n",
       "      <td>0.000000</td>\n",
       "      <td>29.000000</td>\n",
       "      <td>70.350000</td>\n",
       "    </tr>\n",
       "    <tr>\n",
       "      <th>75%</th>\n",
       "      <td>0.000000</td>\n",
       "      <td>55.000000</td>\n",
       "      <td>89.850000</td>\n",
       "    </tr>\n",
       "    <tr>\n",
       "      <th>max</th>\n",
       "      <td>1.000000</td>\n",
       "      <td>72.000000</td>\n",
       "      <td>118.750000</td>\n",
       "    </tr>\n",
       "  </tbody>\n",
       "</table>\n",
       "</div>"
      ],
      "text/plain": [
       "       SeniorCitizen       tenure  MonthlyCharges\n",
       "count    7043.000000  7043.000000     7043.000000\n",
       "mean        0.162147    32.371149       64.761692\n",
       "std         0.368612    24.559481       30.090047\n",
       "min         0.000000     0.000000       18.250000\n",
       "25%         0.000000     9.000000       35.500000\n",
       "50%         0.000000    29.000000       70.350000\n",
       "75%         0.000000    55.000000       89.850000\n",
       "max         1.000000    72.000000      118.750000"
      ]
     },
     "execution_count": 11,
     "metadata": {},
     "output_type": "execute_result"
    }
   ],
   "source": [
    "df.describe()\n",
    "\n",
    "#below we can see senior citizen has categorical data\n",
    "#The average customer stayed in the company is 32 months and 75% of customer has a tenure of 55 month\n",
    "#Average monthly charges are USD 64.76 and 25% of customers pay more than USD 89.85"
   ]
  },
  {
   "cell_type": "code",
   "execution_count": 12,
   "id": "bf8b3f82-6613-4479-b33f-ed9c26291ece",
   "metadata": {
    "execution": {
     "iopub.execute_input": "2025-06-26T18:59:42.355930Z",
     "iopub.status.busy": "2025-06-26T18:59:42.354981Z",
     "iopub.status.idle": "2025-06-26T18:59:42.374453Z",
     "shell.execute_reply": "2025-06-26T18:59:42.373258Z"
    },
    "papermill": {
     "duration": 0.037745,
     "end_time": "2025-06-26T18:59:42.376832",
     "exception": false,
     "start_time": "2025-06-26T18:59:42.339087",
     "status": "completed"
    },
    "tags": []
   },
   "outputs": [
    {
     "name": "stdout",
     "output_type": "stream",
     "text": [
      "<class 'pandas.core.frame.DataFrame'>\n",
      "RangeIndex: 7043 entries, 0 to 7042\n",
      "Data columns (total 21 columns):\n",
      " #   Column            Non-Null Count  Dtype  \n",
      "---  ------            --------------  -----  \n",
      " 0   customerID        7043 non-null   object \n",
      " 1   gender            7043 non-null   object \n",
      " 2   SeniorCitizen     7043 non-null   int64  \n",
      " 3   Partner           7043 non-null   object \n",
      " 4   Dependents        7043 non-null   object \n",
      " 5   tenure            7043 non-null   int64  \n",
      " 6   PhoneService      7043 non-null   object \n",
      " 7   MultipleLines     7043 non-null   object \n",
      " 8   InternetService   7043 non-null   object \n",
      " 9   OnlineSecurity    7043 non-null   object \n",
      " 10  OnlineBackup      7043 non-null   object \n",
      " 11  DeviceProtection  7043 non-null   object \n",
      " 12  TechSupport       7043 non-null   object \n",
      " 13  StreamingTV       7043 non-null   object \n",
      " 14  StreamingMovies   7043 non-null   object \n",
      " 15  Contract          7043 non-null   object \n",
      " 16  PaperlessBilling  7043 non-null   object \n",
      " 17  PaymentMethod     7043 non-null   object \n",
      " 18  MonthlyCharges    7043 non-null   float64\n",
      " 19  TotalCharges      7043 non-null   object \n",
      " 20  Churn             7043 non-null   object \n",
      "dtypes: float64(1), int64(2), object(18)\n",
      "memory usage: 1.1+ MB\n"
     ]
    }
   ],
   "source": [
    "df.info()"
   ]
  },
  {
   "cell_type": "code",
   "execution_count": 13,
   "id": "58ad7a1e-55aa-42f9-8bb7-430cfa9908dc",
   "metadata": {
    "execution": {
     "iopub.execute_input": "2025-06-26T18:59:42.412849Z",
     "iopub.status.busy": "2025-06-26T18:59:42.412477Z",
     "iopub.status.idle": "2025-06-26T18:59:42.422009Z",
     "shell.execute_reply": "2025-06-26T18:59:42.420610Z"
    },
    "papermill": {
     "duration": 0.030506,
     "end_time": "2025-06-26T18:59:42.424234",
     "exception": false,
     "start_time": "2025-06-26T18:59:42.393728",
     "status": "completed"
    },
    "tags": []
   },
   "outputs": [],
   "source": [
    "#errors='coerce' parameter -invalid parsing will be set to NaN (Not a Number)\n",
    "\n",
    "df[\"TotalCharges\"] = pd.to_numeric(df[\"TotalCharges\"], errors=\"coerce\")"
   ]
  },
  {
   "cell_type": "code",
   "execution_count": 14,
   "id": "6a914f69-b41d-4eab-9c0c-50f430b639f4",
   "metadata": {
    "execution": {
     "iopub.execute_input": "2025-06-26T18:59:42.456026Z",
     "iopub.status.busy": "2025-06-26T18:59:42.455110Z",
     "iopub.status.idle": "2025-06-26T18:59:42.472193Z",
     "shell.execute_reply": "2025-06-26T18:59:42.470814Z"
    },
    "papermill": {
     "duration": 0.035481,
     "end_time": "2025-06-26T18:59:42.474488",
     "exception": false,
     "start_time": "2025-06-26T18:59:42.439007",
     "status": "completed"
    },
    "tags": []
   },
   "outputs": [
    {
     "data": {
      "text/plain": [
       "customerID           0\n",
       "gender               0\n",
       "SeniorCitizen        0\n",
       "Partner              0\n",
       "Dependents           0\n",
       "tenure               0\n",
       "PhoneService         0\n",
       "MultipleLines        0\n",
       "InternetService      0\n",
       "OnlineSecurity       0\n",
       "OnlineBackup         0\n",
       "DeviceProtection     0\n",
       "TechSupport          0\n",
       "StreamingTV          0\n",
       "StreamingMovies      0\n",
       "Contract             0\n",
       "PaperlessBilling     0\n",
       "PaymentMethod        0\n",
       "MonthlyCharges       0\n",
       "TotalCharges        11\n",
       "Churn                0\n",
       "dtype: int64"
      ]
     },
     "execution_count": 14,
     "metadata": {},
     "output_type": "execute_result"
    }
   ],
   "source": [
    " # to check the nan value which coerce has replaced if any value found that cannot be converted to numeric\n",
    "\n",
    "df.isnull().sum() "
   ]
  },
  {
   "cell_type": "code",
   "execution_count": 15,
   "id": "107df542-e77f-4d13-b15d-8d056e226e1e",
   "metadata": {
    "execution": {
     "iopub.execute_input": "2025-06-26T18:59:42.507830Z",
     "iopub.status.busy": "2025-06-26T18:59:42.506759Z",
     "iopub.status.idle": "2025-06-26T18:59:42.516457Z",
     "shell.execute_reply": "2025-06-26T18:59:42.515030Z"
    },
    "papermill": {
     "duration": 0.028453,
     "end_time": "2025-06-26T18:59:42.518873",
     "exception": false,
     "start_time": "2025-06-26T18:59:42.490420",
     "status": "completed"
    },
    "tags": []
   },
   "outputs": [
    {
     "data": {
      "text/plain": [
       "Churn\n",
       "No     5174\n",
       "Yes    1869\n",
       "Name: count, dtype: int64"
      ]
     },
     "execution_count": 15,
     "metadata": {},
     "output_type": "execute_result"
    }
   ],
   "source": [
    "df.Churn.value_counts()\n",
    "#here we can see the data is much imbalanced so we would be needing resampling of the data\n",
    "#to evaluate the model"
   ]
  },
  {
   "cell_type": "code",
   "execution_count": 16,
   "id": "bddefe3b-6d4d-40cd-a0ab-e1a6b32c6467",
   "metadata": {
    "execution": {
     "iopub.execute_input": "2025-06-26T18:59:42.556175Z",
     "iopub.status.busy": "2025-06-26T18:59:42.553957Z",
     "iopub.status.idle": "2025-06-26T18:59:42.568707Z",
     "shell.execute_reply": "2025-06-26T18:59:42.567568Z"
    },
    "papermill": {
     "duration": 0.035618,
     "end_time": "2025-06-26T18:59:42.571210",
     "exception": false,
     "start_time": "2025-06-26T18:59:42.535592",
     "status": "completed"
    },
    "tags": []
   },
   "outputs": [
    {
     "name": "stdout",
     "output_type": "stream",
     "text": [
      "No 73.4630129206304 %\n",
      "Yes 26.536987079369588 %\n"
     ]
    },
    {
     "data": {
      "text/plain": [
       "Churn\n",
       "No     5174\n",
       "Yes    1869\n",
       "Name: count, dtype: int64"
      ]
     },
     "execution_count": 16,
     "metadata": {},
     "output_type": "execute_result"
    }
   ],
   "source": [
    "\n",
    "x=list(df.Churn.value_counts())\n",
    "print('No' , x[0]/(x[0]+x[1])*100 ,'%')\n",
    "print('Yes' , x[1]/(x[0]+x[1])*100 ,'%')\n",
    "df['Churn'].value_counts()"
   ]
  },
  {
   "cell_type": "code",
   "execution_count": 17,
   "id": "aa8b6047-7d0b-4bc7-b3de-d7de17fc619d",
   "metadata": {
    "execution": {
     "iopub.execute_input": "2025-06-26T18:59:42.605991Z",
     "iopub.status.busy": "2025-06-26T18:59:42.605206Z",
     "iopub.status.idle": "2025-06-26T18:59:42.621966Z",
     "shell.execute_reply": "2025-06-26T18:59:42.620777Z"
    },
    "papermill": {
     "duration": 0.03638,
     "end_time": "2025-06-26T18:59:42.624414",
     "exception": false,
     "start_time": "2025-06-26T18:59:42.588034",
     "status": "completed"
    },
    "tags": []
   },
   "outputs": [],
   "source": [
    "df.dropna(inplace = True)\n",
    "df2=df.iloc[:,1:]  #----------it will drop the first column that is customer ID which is irrelevent\n",
    "#print(df2) it will print whole data set except first column"
   ]
  },
  {
   "cell_type": "code",
   "execution_count": 18,
   "id": "00767040-744b-49cd-92f8-413468a364e5",
   "metadata": {
    "execution": {
     "iopub.execute_input": "2025-06-26T18:59:42.659184Z",
     "iopub.status.busy": "2025-06-26T18:59:42.658575Z",
     "iopub.status.idle": "2025-06-26T18:59:42.671182Z",
     "shell.execute_reply": "2025-06-26T18:59:42.670055Z"
    },
    "papermill": {
     "duration": 0.032751,
     "end_time": "2025-06-26T18:59:42.673650",
     "exception": false,
     "start_time": "2025-06-26T18:59:42.640899",
     "status": "completed"
    },
    "tags": []
   },
   "outputs": [
    {
     "name": "stderr",
     "output_type": "stream",
     "text": [
      "/var/tmp/ipykernel_87427/3818874799.py:7: FutureWarning: Downcasting behavior in `replace` is deprecated and will be removed in a future version. To retain the old behavior, explicitly call `result.infer_objects(copy=False)`. To opt-in to the future behavior, set `pd.set_option('future.no_silent_downcasting', True)`\n",
      "  df2['Churn'] = df2['Churn'].replace({'Yes': 1, 'No': 0})\n"
     ]
    }
   ],
   "source": [
    "#Convertin the predictor variable in a binary numeric variable\n",
    "#df2['Churn'].replace(to_replace='Yes', value=1, inplace=True)\n",
    "#df2['Churn'].replace(to_replace='No',  value=0, inplace=True)\n",
    "\n",
    "\n",
    "# Convert the predictor variable into a binary numeric variable\n",
    "df2['Churn'] = df2['Churn'].replace({'Yes': 1, 'No': 0})\n",
    "df2['Churn'] = df2['Churn'].infer_objects(copy=False)\n",
    "\n"
   ]
  },
  {
   "cell_type": "code",
   "execution_count": 19,
   "id": "32d8c9d5-82d5-4f95-9902-7faf72c1d51f",
   "metadata": {
    "execution": {
     "iopub.execute_input": "2025-06-26T18:59:42.706821Z",
     "iopub.status.busy": "2025-06-26T18:59:42.705862Z",
     "iopub.status.idle": "2025-06-26T18:59:42.751159Z",
     "shell.execute_reply": "2025-06-26T18:59:42.750053Z"
    },
    "papermill": {
     "duration": 0.064899,
     "end_time": "2025-06-26T18:59:42.753619",
     "exception": false,
     "start_time": "2025-06-26T18:59:42.688720",
     "status": "completed"
    },
    "tags": []
   },
   "outputs": [
    {
     "data": {
      "text/html": [
       "<div>\n",
       "<style scoped>\n",
       "    .dataframe tbody tr th:only-of-type {\n",
       "        vertical-align: middle;\n",
       "    }\n",
       "\n",
       "    .dataframe tbody tr th {\n",
       "        vertical-align: top;\n",
       "    }\n",
       "\n",
       "    .dataframe thead th {\n",
       "        text-align: right;\n",
       "    }\n",
       "</style>\n",
       "<table border=\"1\" class=\"dataframe\">\n",
       "  <thead>\n",
       "    <tr style=\"text-align: right;\">\n",
       "      <th></th>\n",
       "      <th>SeniorCitizen</th>\n",
       "      <th>tenure</th>\n",
       "      <th>MonthlyCharges</th>\n",
       "      <th>TotalCharges</th>\n",
       "      <th>Churn</th>\n",
       "      <th>gender_Female</th>\n",
       "      <th>gender_Male</th>\n",
       "      <th>Partner_No</th>\n",
       "      <th>Partner_Yes</th>\n",
       "      <th>Dependents_No</th>\n",
       "      <th>...</th>\n",
       "      <th>StreamingMovies_Yes</th>\n",
       "      <th>Contract_Month-to-month</th>\n",
       "      <th>Contract_One year</th>\n",
       "      <th>Contract_Two year</th>\n",
       "      <th>PaperlessBilling_No</th>\n",
       "      <th>PaperlessBilling_Yes</th>\n",
       "      <th>PaymentMethod_Bank transfer (automatic)</th>\n",
       "      <th>PaymentMethod_Credit card (automatic)</th>\n",
       "      <th>PaymentMethod_Electronic check</th>\n",
       "      <th>PaymentMethod_Mailed check</th>\n",
       "    </tr>\n",
       "  </thead>\n",
       "  <tbody>\n",
       "    <tr>\n",
       "      <th>0</th>\n",
       "      <td>0</td>\n",
       "      <td>1</td>\n",
       "      <td>29.85</td>\n",
       "      <td>29.85</td>\n",
       "      <td>0</td>\n",
       "      <td>True</td>\n",
       "      <td>False</td>\n",
       "      <td>False</td>\n",
       "      <td>True</td>\n",
       "      <td>True</td>\n",
       "      <td>...</td>\n",
       "      <td>False</td>\n",
       "      <td>True</td>\n",
       "      <td>False</td>\n",
       "      <td>False</td>\n",
       "      <td>False</td>\n",
       "      <td>True</td>\n",
       "      <td>False</td>\n",
       "      <td>False</td>\n",
       "      <td>True</td>\n",
       "      <td>False</td>\n",
       "    </tr>\n",
       "    <tr>\n",
       "      <th>1</th>\n",
       "      <td>0</td>\n",
       "      <td>34</td>\n",
       "      <td>56.95</td>\n",
       "      <td>1889.50</td>\n",
       "      <td>0</td>\n",
       "      <td>False</td>\n",
       "      <td>True</td>\n",
       "      <td>True</td>\n",
       "      <td>False</td>\n",
       "      <td>True</td>\n",
       "      <td>...</td>\n",
       "      <td>False</td>\n",
       "      <td>False</td>\n",
       "      <td>True</td>\n",
       "      <td>False</td>\n",
       "      <td>True</td>\n",
       "      <td>False</td>\n",
       "      <td>False</td>\n",
       "      <td>False</td>\n",
       "      <td>False</td>\n",
       "      <td>True</td>\n",
       "    </tr>\n",
       "    <tr>\n",
       "      <th>2</th>\n",
       "      <td>0</td>\n",
       "      <td>2</td>\n",
       "      <td>53.85</td>\n",
       "      <td>108.15</td>\n",
       "      <td>1</td>\n",
       "      <td>False</td>\n",
       "      <td>True</td>\n",
       "      <td>True</td>\n",
       "      <td>False</td>\n",
       "      <td>True</td>\n",
       "      <td>...</td>\n",
       "      <td>False</td>\n",
       "      <td>True</td>\n",
       "      <td>False</td>\n",
       "      <td>False</td>\n",
       "      <td>False</td>\n",
       "      <td>True</td>\n",
       "      <td>False</td>\n",
       "      <td>False</td>\n",
       "      <td>False</td>\n",
       "      <td>True</td>\n",
       "    </tr>\n",
       "    <tr>\n",
       "      <th>3</th>\n",
       "      <td>0</td>\n",
       "      <td>45</td>\n",
       "      <td>42.30</td>\n",
       "      <td>1840.75</td>\n",
       "      <td>0</td>\n",
       "      <td>False</td>\n",
       "      <td>True</td>\n",
       "      <td>True</td>\n",
       "      <td>False</td>\n",
       "      <td>True</td>\n",
       "      <td>...</td>\n",
       "      <td>False</td>\n",
       "      <td>False</td>\n",
       "      <td>True</td>\n",
       "      <td>False</td>\n",
       "      <td>True</td>\n",
       "      <td>False</td>\n",
       "      <td>True</td>\n",
       "      <td>False</td>\n",
       "      <td>False</td>\n",
       "      <td>False</td>\n",
       "    </tr>\n",
       "    <tr>\n",
       "      <th>4</th>\n",
       "      <td>0</td>\n",
       "      <td>2</td>\n",
       "      <td>70.70</td>\n",
       "      <td>151.65</td>\n",
       "      <td>1</td>\n",
       "      <td>True</td>\n",
       "      <td>False</td>\n",
       "      <td>True</td>\n",
       "      <td>False</td>\n",
       "      <td>True</td>\n",
       "      <td>...</td>\n",
       "      <td>False</td>\n",
       "      <td>True</td>\n",
       "      <td>False</td>\n",
       "      <td>False</td>\n",
       "      <td>False</td>\n",
       "      <td>True</td>\n",
       "      <td>False</td>\n",
       "      <td>False</td>\n",
       "      <td>True</td>\n",
       "      <td>False</td>\n",
       "    </tr>\n",
       "  </tbody>\n",
       "</table>\n",
       "<p>5 rows × 46 columns</p>\n",
       "</div>"
      ],
      "text/plain": [
       "   SeniorCitizen  tenure  MonthlyCharges  TotalCharges  Churn  gender_Female  \\\n",
       "0              0       1           29.85         29.85      0           True   \n",
       "1              0      34           56.95       1889.50      0          False   \n",
       "2              0       2           53.85        108.15      1          False   \n",
       "3              0      45           42.30       1840.75      0          False   \n",
       "4              0       2           70.70        151.65      1           True   \n",
       "\n",
       "   gender_Male  Partner_No  Partner_Yes  Dependents_No  ...  \\\n",
       "0        False       False         True           True  ...   \n",
       "1         True        True        False           True  ...   \n",
       "2         True        True        False           True  ...   \n",
       "3         True        True        False           True  ...   \n",
       "4        False        True        False           True  ...   \n",
       "\n",
       "   StreamingMovies_Yes  Contract_Month-to-month  Contract_One year  \\\n",
       "0                False                     True              False   \n",
       "1                False                    False               True   \n",
       "2                False                     True              False   \n",
       "3                False                    False               True   \n",
       "4                False                     True              False   \n",
       "\n",
       "   Contract_Two year  PaperlessBilling_No  PaperlessBilling_Yes  \\\n",
       "0              False                False                  True   \n",
       "1              False                 True                 False   \n",
       "2              False                False                  True   \n",
       "3              False                 True                 False   \n",
       "4              False                False                  True   \n",
       "\n",
       "   PaymentMethod_Bank transfer (automatic)  \\\n",
       "0                                    False   \n",
       "1                                    False   \n",
       "2                                    False   \n",
       "3                                     True   \n",
       "4                                    False   \n",
       "\n",
       "   PaymentMethod_Credit card (automatic)  PaymentMethod_Electronic check  \\\n",
       "0                                  False                            True   \n",
       "1                                  False                           False   \n",
       "2                                  False                           False   \n",
       "3                                  False                           False   \n",
       "4                                  False                            True   \n",
       "\n",
       "   PaymentMethod_Mailed check  \n",
       "0                       False  \n",
       "1                        True  \n",
       "2                        True  \n",
       "3                       False  \n",
       "4                       False  \n",
       "\n",
       "[5 rows x 46 columns]"
      ]
     },
     "execution_count": 19,
     "metadata": {},
     "output_type": "execute_result"
    }
   ],
   "source": [
    "df_dummies = pd.get_dummies(df2)\n",
    "df_dummies.head()"
   ]
  },
  {
   "cell_type": "code",
   "execution_count": 20,
   "id": "0037752d-f330-4dc8-812d-1e5e25b6234b",
   "metadata": {
    "execution": {
     "iopub.execute_input": "2025-06-26T18:59:42.790188Z",
     "iopub.status.busy": "2025-06-26T18:59:42.789563Z",
     "iopub.status.idle": "2025-06-26T18:59:43.305029Z",
     "shell.execute_reply": "2025-06-26T18:59:43.303440Z"
    },
    "papermill": {
     "duration": 0.537165,
     "end_time": "2025-06-26T18:59:43.307472",
     "exception": false,
     "start_time": "2025-06-26T18:59:42.770307",
     "status": "completed"
    },
    "tags": []
   },
   "outputs": [
    {
     "data": {
      "image/png": "[encoded data removed]",
      "text/plain": [
       "<Figure size 1000x600 with 1 Axes>"
      ]
     },
     "metadata": {},
     "output_type": "display_data"
    }
   ],
   "source": [
    "plt.figure(figsize=(10,6))\n",
    "df_dummies.corr()[\"Churn\"].sort_values(ascending=False).plot(kind=\"bar\")\n",
    "#plt.savefig(\"dataVisualisation/correlation.png\", dpi=300)\n",
    "plt.show()"
   ]
  },
  {
   "cell_type": "code",
   "execution_count": 21,
   "id": "671526a2-24c3-4b35-9260-cf787d1591dd",
   "metadata": {
    "execution": {
     "iopub.execute_input": "2025-06-26T18:59:43.344681Z",
     "iopub.status.busy": "2025-06-26T18:59:43.344297Z",
     "iopub.status.idle": "2025-06-26T18:59:43.349508Z",
     "shell.execute_reply": "2025-06-26T18:59:43.348167Z"
    },
    "papermill": {
     "duration": 0.026457,
     "end_time": "2025-06-26T18:59:43.351658",
     "exception": false,
     "start_time": "2025-06-26T18:59:43.325201",
     "status": "completed"
    },
    "tags": []
   },
   "outputs": [],
   "source": [
    "#data exploration"
   ]
  },
  {
   "cell_type": "code",
   "execution_count": 22,
   "id": "2410b61f-37a2-447b-bead-0473020a576a",
   "metadata": {
    "execution": {
     "iopub.execute_input": "2025-06-26T18:59:43.390246Z",
     "iopub.status.busy": "2025-06-26T18:59:43.389264Z",
     "iopub.status.idle": "2025-06-26T18:59:43.394028Z",
     "shell.execute_reply": "2025-06-26T18:59:43.392913Z"
    },
    "papermill": {
     "duration": 0.026802,
     "end_time": "2025-06-26T18:59:43.396046",
     "exception": false,
     "start_time": "2025-06-26T18:59:43.369244",
     "status": "completed"
    },
    "tags": []
   },
   "outputs": [],
   "source": [
    "# for demographics data "
   ]
  },
  {
   "cell_type": "code",
   "execution_count": 23,
   "id": "66340639-4b3d-4333-b854-187ed71c35b0",
   "metadata": {
    "execution": {
     "iopub.execute_input": "2025-06-26T18:59:43.433891Z",
     "iopub.status.busy": "2025-06-26T18:59:43.433203Z",
     "iopub.status.idle": "2025-06-26T18:59:43.438570Z",
     "shell.execute_reply": "2025-06-26T18:59:43.437460Z"
    },
    "papermill": {
     "duration": 0.026339,
     "end_time": "2025-06-26T18:59:43.440731",
     "exception": false,
     "start_time": "2025-06-26T18:59:43.414392",
     "status": "completed"
    },
    "tags": []
   },
   "outputs": [
    {
     "name": "stdout",
     "output_type": "stream",
     "text": [
      "7032\n"
     ]
    }
   ],
   "source": [
    "print(len(df_dummies))"
   ]
  },
  {
   "cell_type": "code",
   "execution_count": 24,
   "id": "55e7d043-b99b-4b8e-9ec3-0c8de4157412",
   "metadata": {
    "execution": {
     "iopub.execute_input": "2025-06-26T18:59:43.477877Z",
     "iopub.status.busy": "2025-06-26T18:59:43.477135Z",
     "iopub.status.idle": "2025-06-26T18:59:43.485788Z",
     "shell.execute_reply": "2025-06-26T18:59:43.484716Z"
    },
    "papermill": {
     "duration": 0.030085,
     "end_time": "2025-06-26T18:59:43.487816",
     "exception": false,
     "start_time": "2025-06-26T18:59:43.457731",
     "status": "completed"
    },
    "tags": []
   },
   "outputs": [
    {
     "name": "stdout",
     "output_type": "stream",
     "text": [
      "gender\n",
      "Male      50.469283\n",
      "Female    49.530717\n",
      "Name: count, dtype: float64\n"
     ]
    }
   ],
   "source": [
    "print(df['gender'].value_counts()*100.0/ len(df))"
   ]
  },
  {
   "cell_type": "code",
   "execution_count": 25,
   "id": "4aa3369f-44e9-4c62-a9e6-6aa484f6720a",
   "metadata": {
    "execution": {
     "iopub.execute_input": "2025-06-26T18:59:43.526774Z",
     "iopub.status.busy": "2025-06-26T18:59:43.526260Z",
     "iopub.status.idle": "2025-06-26T18:59:43.695760Z",
     "shell.execute_reply": "2025-06-26T18:59:43.694525Z"
    },
    "papermill": {
     "duration": 0.19313,
     "end_time": "2025-06-26T18:59:43.698684",
     "exception": false,
     "start_time": "2025-06-26T18:59:43.505554",
     "status": "completed"
    },
    "tags": []
   },
   "outputs": [
    {
     "data": {
      "text/plain": [
       "Text(0.5, 1.0, 'Gender Distribution')"
      ]
     },
     "execution_count": 25,
     "metadata": {},
     "output_type": "execute_result"
    },
    {
     "data": {
      "image/png": "[encoded data removed]",
      "text/plain": [
       "<Figure size 640x480 with 1 Axes>"
      ]
     },
     "metadata": {},
     "output_type": "display_data"
    }
   ],
   "source": [
    "colors = ['#4D3415','#E4512B']\n",
    "ax= (df['gender'].value_counts()*100 /len(df)).plot(kind='bar',rot=0 ,color=colors)\n",
    "ax.yaxis.set_major_formatter(mtick.PercentFormatter())  #--------it will format the yaxis into the percentage format\n",
    "#ax.xaxis.set_major_formatter(mtick.PercentFormatter())\n",
    "\n",
    "ax.set_xlabel('Gender')\n",
    "ax.set_ylabel('% Customer')\n",
    "ax.set_title('Gender Distribution')\n",
    "#plt.savefig(\"dataVisualisation/genderDistribution.png\", dpi=300)"
   ]
  },
  {
   "cell_type": "code",
   "execution_count": 26,
   "id": "4b58d0c4-7bc7-485f-8ff3-011a45dc2291",
   "metadata": {
    "execution": {
     "iopub.execute_input": "2025-06-26T18:59:43.737936Z",
     "iopub.status.busy": "2025-06-26T18:59:43.736653Z",
     "iopub.status.idle": "2025-06-26T18:59:43.752239Z",
     "shell.execute_reply": "2025-06-26T18:59:43.750742Z"
    },
    "papermill": {
     "duration": 0.037537,
     "end_time": "2025-06-26T18:59:43.754567",
     "exception": false,
     "start_time": "2025-06-26T18:59:43.717030",
     "status": "completed"
    },
    "tags": []
   },
   "outputs": [
    {
     "data": {
      "text/html": [
       "<div>\n",
       "<style scoped>\n",
       "    .dataframe tbody tr th:only-of-type {\n",
       "        vertical-align: middle;\n",
       "    }\n",
       "\n",
       "    .dataframe tbody tr th {\n",
       "        vertical-align: top;\n",
       "    }\n",
       "\n",
       "    .dataframe thead th {\n",
       "        text-align: right;\n",
       "    }\n",
       "</style>\n",
       "<table border=\"1\" class=\"dataframe\">\n",
       "  <thead>\n",
       "    <tr style=\"text-align: right;\">\n",
       "      <th></th>\n",
       "      <th>Churn</th>\n",
       "    </tr>\n",
       "    <tr>\n",
       "      <th>gender</th>\n",
       "      <th></th>\n",
       "    </tr>\n",
       "  </thead>\n",
       "  <tbody>\n",
       "    <tr>\n",
       "      <th>Female</th>\n",
       "      <td>0.269595</td>\n",
       "    </tr>\n",
       "    <tr>\n",
       "      <th>Male</th>\n",
       "      <td>0.262046</td>\n",
       "    </tr>\n",
       "  </tbody>\n",
       "</table>\n",
       "</div>"
      ],
      "text/plain": [
       "           Churn\n",
       "gender          \n",
       "Female  0.269595\n",
       "Male    0.262046"
      ]
     },
     "execution_count": 26,
     "metadata": {},
     "output_type": "execute_result"
    }
   ],
   "source": [
    "\n",
    "df2[['gender','Churn']].groupby(['gender']).mean()"
   ]
  },
  {
   "cell_type": "code",
   "execution_count": 27,
   "id": "84e16667-1cab-4436-a545-6cc56303a6c4",
   "metadata": {
    "execution": {
     "iopub.execute_input": "2025-06-26T18:59:43.794604Z",
     "iopub.status.busy": "2025-06-26T18:59:43.793845Z",
     "iopub.status.idle": "2025-06-26T18:59:43.798337Z",
     "shell.execute_reply": "2025-06-26T18:59:43.797251Z"
    },
    "papermill": {
     "duration": 0.027095,
     "end_time": "2025-06-26T18:59:43.800529",
     "exception": false,
     "start_time": "2025-06-26T18:59:43.773434",
     "status": "completed"
    },
    "tags": []
   },
   "outputs": [],
   "source": [
    "#above reflects that about 26% each male and female have churned"
   ]
  },
  {
   "cell_type": "code",
   "execution_count": 28,
   "id": "a794234a-64c3-4dc6-9c13-f887399a56ee",
   "metadata": {
    "execution": {
     "iopub.execute_input": "2025-06-26T18:59:43.841403Z",
     "iopub.status.busy": "2025-06-26T18:59:43.840541Z",
     "iopub.status.idle": "2025-06-26T18:59:43.847772Z",
     "shell.execute_reply": "2025-06-26T18:59:43.846533Z"
    },
    "papermill": {
     "duration": 0.030346,
     "end_time": "2025-06-26T18:59:43.849996",
     "exception": false,
     "start_time": "2025-06-26T18:59:43.819650",
     "status": "completed"
    },
    "tags": []
   },
   "outputs": [
    {
     "name": "stdout",
     "output_type": "stream",
     "text": [
      "SeniorCitizen\n",
      "0    83.759954\n",
      "1    16.240046\n",
      "Name: count, dtype: float64\n"
     ]
    }
   ],
   "source": [
    "print(df['SeniorCitizen'].value_counts()*100.0/ len(df))"
   ]
  },
  {
   "cell_type": "code",
   "execution_count": 29,
   "id": "7b63b5d8-4327-404e-97d2-3190cff436c1",
   "metadata": {
    "execution": {
     "iopub.execute_input": "2025-06-26T18:59:43.889144Z",
     "iopub.status.busy": "2025-06-26T18:59:43.888712Z",
     "iopub.status.idle": "2025-06-26T18:59:43.982292Z",
     "shell.execute_reply": "2025-06-26T18:59:43.981112Z"
    },
    "papermill": {
     "duration": 0.116153,
     "end_time": "2025-06-26T18:59:43.984687",
     "exception": false,
     "start_time": "2025-06-26T18:59:43.868534",
     "status": "completed"
    },
    "tags": []
   },
   "outputs": [
    {
     "data": {
      "text/plain": [
       "Text(0.5, 1.0, '% of senior citizen')"
      ]
     },
     "execution_count": 29,
     "metadata": {},
     "output_type": "execute_result"
    },
    {
     "data": {
      "image/png": "[encoded data removed]",
      "text/plain": [
       "<Figure size 500x500 with 1 Axes>"
      ]
     },
     "metadata": {},
     "output_type": "display_data"
    }
   ],
   "source": [
    "ax = (df['SeniorCitizen'].value_counts()*100.0 / len(df))\\\n",
    ".plot.pie(autopct='%.1f%%', labels = ['No' , 'Yes'] ,figsize =(5,5) , fontsize = 12) \n",
    "\n",
    "ax.yaxis.set_major_formatter(mtick.PercentFormatter())\n",
    "ax.set_ylabel('Senior Citizens %' ,fontsize = 12)\n",
    "\n",
    "ax.set_title('% of senior citizen' , fontsize = 12)\n",
    "#plt.savefig(\"dataVisualisation/SeniorCitizenDistribution.png\", dpi=300)"
   ]
  },
  {
   "cell_type": "code",
   "execution_count": 30,
   "id": "5a80b861-75c9-403e-af79-503ce39d22c4",
   "metadata": {
    "execution": {
     "iopub.execute_input": "2025-06-26T18:59:44.027482Z",
     "iopub.status.busy": "2025-06-26T18:59:44.026526Z",
     "iopub.status.idle": "2025-06-26T18:59:44.040634Z",
     "shell.execute_reply": "2025-06-26T18:59:44.039305Z"
    },
    "papermill": {
     "duration": 0.039204,
     "end_time": "2025-06-26T18:59:44.043257",
     "exception": false,
     "start_time": "2025-06-26T18:59:44.004053",
     "status": "completed"
    },
    "tags": []
   },
   "outputs": [
    {
     "data": {
      "text/html": [
       "<div>\n",
       "<style scoped>\n",
       "    .dataframe tbody tr th:only-of-type {\n",
       "        vertical-align: middle;\n",
       "    }\n",
       "\n",
       "    .dataframe tbody tr th {\n",
       "        vertical-align: top;\n",
       "    }\n",
       "\n",
       "    .dataframe thead th {\n",
       "        text-align: right;\n",
       "    }\n",
       "</style>\n",
       "<table border=\"1\" class=\"dataframe\">\n",
       "  <thead>\n",
       "    <tr style=\"text-align: right;\">\n",
       "      <th></th>\n",
       "      <th>Churn</th>\n",
       "    </tr>\n",
       "    <tr>\n",
       "      <th>Partner</th>\n",
       "      <th></th>\n",
       "    </tr>\n",
       "  </thead>\n",
       "  <tbody>\n",
       "    <tr>\n",
       "      <th>No</th>\n",
       "      <td>0.329761</td>\n",
       "    </tr>\n",
       "    <tr>\n",
       "      <th>Yes</th>\n",
       "      <td>0.197171</td>\n",
       "    </tr>\n",
       "  </tbody>\n",
       "</table>\n",
       "</div>"
      ],
      "text/plain": [
       "            Churn\n",
       "Partner          \n",
       "No       0.329761\n",
       "Yes      0.197171"
      ]
     },
     "execution_count": 30,
     "metadata": {},
     "output_type": "execute_result"
    }
   ],
   "source": [
    "df2[['Partner' , 'Churn']].groupby(['Partner']).mean()"
   ]
  },
  {
   "cell_type": "code",
   "execution_count": 31,
   "id": "35fae602-8355-41e8-bb56-a7d59fcaebcd",
   "metadata": {
    "execution": {
     "iopub.execute_input": "2025-06-26T18:59:44.084829Z",
     "iopub.status.busy": "2025-06-26T18:59:44.083966Z",
     "iopub.status.idle": "2025-06-26T18:59:44.089856Z",
     "shell.execute_reply": "2025-06-26T18:59:44.088834Z"
    },
    "papermill": {
     "duration": 0.031804,
     "end_time": "2025-06-26T18:59:44.094724",
     "exception": false,
     "start_time": "2025-06-26T18:59:44.062920",
     "status": "completed"
    },
    "tags": []
   },
   "outputs": [],
   "source": [
    "# above indicate that 32.98% of customers without a partner have churned.\n",
    "#and 19.72% of customers with a partner have churned."
   ]
  },
  {
   "cell_type": "code",
   "execution_count": 32,
   "id": "08da7b10-58f7-4889-b8f6-7fa95f5dd229",
   "metadata": {
    "execution": {
     "iopub.execute_input": "2025-06-26T18:59:44.137437Z",
     "iopub.status.busy": "2025-06-26T18:59:44.136962Z",
     "iopub.status.idle": "2025-06-26T18:59:44.142640Z",
     "shell.execute_reply": "2025-06-26T18:59:44.141590Z"
    },
    "papermill": {
     "duration": 0.030484,
     "end_time": "2025-06-26T18:59:44.145023",
     "exception": false,
     "start_time": "2025-06-26T18:59:44.114539",
     "status": "completed"
    },
    "tags": []
   },
   "outputs": [
    {
     "name": "stdout",
     "output_type": "stream",
     "text": [
      "Index(['customerID', 'gender', 'SeniorCitizen', 'Partner', 'Dependents',\n",
      "       'tenure', 'PhoneService', 'MultipleLines', 'InternetService',\n",
      "       'OnlineSecurity', 'OnlineBackup', 'DeviceProtection', 'TechSupport',\n",
      "       'StreamingTV', 'StreamingMovies', 'Contract', 'PaperlessBilling',\n",
      "       'PaymentMethod', 'MonthlyCharges', 'TotalCharges', 'Churn'],\n",
      "      dtype='object')\n"
     ]
    }
   ],
   "source": [
    "print(df.columns)"
   ]
  },
  {
   "cell_type": "code",
   "execution_count": 33,
   "id": "791bd8fa-8a47-44da-817d-5542d89fffb9",
   "metadata": {
    "execution": {
     "iopub.execute_input": "2025-06-26T18:59:44.190820Z",
     "iopub.status.busy": "2025-06-26T18:59:44.189989Z",
     "iopub.status.idle": "2025-06-26T18:59:44.194791Z",
     "shell.execute_reply": "2025-06-26T18:59:44.193631Z"
    },
    "papermill": {
     "duration": 0.029696,
     "end_time": "2025-06-26T18:59:44.197407",
     "exception": false,
     "start_time": "2025-06-26T18:59:44.167711",
     "status": "completed"
    },
    "tags": []
   },
   "outputs": [],
   "source": [
    "#print(df.columns.value_counts().shape[0])"
   ]
  },
  {
   "cell_type": "code",
   "execution_count": 34,
   "id": "c6376042-c008-45b2-b040-53a24c5c9878",
   "metadata": {
    "execution": {
     "iopub.execute_input": "2025-06-26T18:59:44.240319Z",
     "iopub.status.busy": "2025-06-26T18:59:44.239312Z",
     "iopub.status.idle": "2025-06-26T18:59:44.268655Z",
     "shell.execute_reply": "2025-06-26T18:59:44.267548Z"
    },
    "papermill": {
     "duration": 0.054004,
     "end_time": "2025-06-26T18:59:44.270920",
     "exception": false,
     "start_time": "2025-06-26T18:59:44.216916",
     "status": "completed"
    },
    "tags": []
   },
   "outputs": [
    {
     "data": {
      "text/plain": [
       "['gender',\n",
       " 'SeniorCitizen',\n",
       " 'Partner',\n",
       " 'Dependents',\n",
       " 'PhoneService',\n",
       " 'PaperlessBilling',\n",
       " 'Churn']"
      ]
     },
     "execution_count": 34,
     "metadata": {},
     "output_type": "execute_result"
    }
   ],
   "source": [
    "columns = df.columns  #will findout the features which would be having the 2 values exact\n",
    "binary_cols = []\n",
    "\n",
    "for col in columns:\n",
    "    if df[col].value_counts().shape[0] ==2:\n",
    "        binary_cols.append(col)\n",
    "\n",
    "binary_cols  #categorical features with two classes"
   ]
  },
  {
   "cell_type": "code",
   "execution_count": 35,
   "id": "468f510f-2e51-4547-b206-3cbbab447e53",
   "metadata": {
    "execution": {
     "iopub.execute_input": "2025-06-26T18:59:44.313740Z",
     "iopub.status.busy": "2025-06-26T18:59:44.312996Z",
     "iopub.status.idle": "2025-06-26T18:59:44.326305Z",
     "shell.execute_reply": "2025-06-26T18:59:44.325125Z"
    },
    "papermill": {
     "duration": 0.038035,
     "end_time": "2025-06-26T18:59:44.328500",
     "exception": false,
     "start_time": "2025-06-26T18:59:44.290465",
     "status": "completed"
    },
    "tags": []
   },
   "outputs": [
    {
     "data": {
      "text/html": [
       "<div>\n",
       "<style scoped>\n",
       "    .dataframe tbody tr th:only-of-type {\n",
       "        vertical-align: middle;\n",
       "    }\n",
       "\n",
       "    .dataframe tbody tr th {\n",
       "        vertical-align: top;\n",
       "    }\n",
       "\n",
       "    .dataframe thead th {\n",
       "        text-align: right;\n",
       "    }\n",
       "</style>\n",
       "<table border=\"1\" class=\"dataframe\">\n",
       "  <thead>\n",
       "    <tr style=\"text-align: right;\">\n",
       "      <th></th>\n",
       "      <th>Churn</th>\n",
       "    </tr>\n",
       "    <tr>\n",
       "      <th>Dependents</th>\n",
       "      <th></th>\n",
       "    </tr>\n",
       "  </thead>\n",
       "  <tbody>\n",
       "    <tr>\n",
       "      <th>No</th>\n",
       "      <td>0.312791</td>\n",
       "    </tr>\n",
       "    <tr>\n",
       "      <th>Yes</th>\n",
       "      <td>0.155312</td>\n",
       "    </tr>\n",
       "  </tbody>\n",
       "</table>\n",
       "</div>"
      ],
      "text/plain": [
       "               Churn\n",
       "Dependents          \n",
       "No          0.312791\n",
       "Yes         0.155312"
      ]
     },
     "execution_count": 35,
     "metadata": {},
     "output_type": "execute_result"
    }
   ],
   "source": [
    "df2[['Dependents' , 'Churn']].groupby(['Dependents']).mean()"
   ]
  },
  {
   "cell_type": "code",
   "execution_count": 36,
   "id": "4097542b-e5b9-4f2e-ad89-e73ab55a2a93",
   "metadata": {
    "execution": {
     "iopub.execute_input": "2025-06-26T18:59:44.373280Z",
     "iopub.status.busy": "2025-06-26T18:59:44.372542Z",
     "iopub.status.idle": "2025-06-26T18:59:44.386642Z",
     "shell.execute_reply": "2025-06-26T18:59:44.385489Z"
    },
    "papermill": {
     "duration": 0.038938,
     "end_time": "2025-06-26T18:59:44.389104",
     "exception": false,
     "start_time": "2025-06-26T18:59:44.350166",
     "status": "completed"
    },
    "tags": []
   },
   "outputs": [
    {
     "data": {
      "text/html": [
       "<div>\n",
       "<style scoped>\n",
       "    .dataframe tbody tr th:only-of-type {\n",
       "        vertical-align: middle;\n",
       "    }\n",
       "\n",
       "    .dataframe tbody tr th {\n",
       "        vertical-align: top;\n",
       "    }\n",
       "\n",
       "    .dataframe thead th {\n",
       "        text-align: right;\n",
       "    }\n",
       "</style>\n",
       "<table border=\"1\" class=\"dataframe\">\n",
       "  <thead>\n",
       "    <tr style=\"text-align: right;\">\n",
       "      <th></th>\n",
       "      <th>Churn</th>\n",
       "    </tr>\n",
       "    <tr>\n",
       "      <th>PhoneService</th>\n",
       "      <th></th>\n",
       "    </tr>\n",
       "  </thead>\n",
       "  <tbody>\n",
       "    <tr>\n",
       "      <th>No</th>\n",
       "      <td>0.250000</td>\n",
       "    </tr>\n",
       "    <tr>\n",
       "      <th>Yes</th>\n",
       "      <td>0.267475</td>\n",
       "    </tr>\n",
       "  </tbody>\n",
       "</table>\n",
       "</div>"
      ],
      "text/plain": [
       "                 Churn\n",
       "PhoneService          \n",
       "No            0.250000\n",
       "Yes           0.267475"
      ]
     },
     "execution_count": 36,
     "metadata": {},
     "output_type": "execute_result"
    }
   ],
   "source": [
    "df2[['PhoneService' , 'Churn']].groupby(['PhoneService']).mean()"
   ]
  },
  {
   "cell_type": "code",
   "execution_count": 37,
   "id": "6933f5ce-4370-44ee-baf7-b2b1a2c64a06",
   "metadata": {
    "execution": {
     "iopub.execute_input": "2025-06-26T18:59:44.432204Z",
     "iopub.status.busy": "2025-06-26T18:59:44.431716Z",
     "iopub.status.idle": "2025-06-26T18:59:44.446928Z",
     "shell.execute_reply": "2025-06-26T18:59:44.445788Z"
    },
    "papermill": {
     "duration": 0.040282,
     "end_time": "2025-06-26T18:59:44.449287",
     "exception": false,
     "start_time": "2025-06-26T18:59:44.409005",
     "status": "completed"
    },
    "tags": []
   },
   "outputs": [
    {
     "data": {
      "text/html": [
       "<div>\n",
       "<style scoped>\n",
       "    .dataframe tbody tr th:only-of-type {\n",
       "        vertical-align: middle;\n",
       "    }\n",
       "\n",
       "    .dataframe tbody tr th {\n",
       "        vertical-align: top;\n",
       "    }\n",
       "\n",
       "    .dataframe thead th {\n",
       "        text-align: right;\n",
       "    }\n",
       "</style>\n",
       "<table border=\"1\" class=\"dataframe\">\n",
       "  <thead>\n",
       "    <tr style=\"text-align: right;\">\n",
       "      <th></th>\n",
       "      <th>Churn</th>\n",
       "    </tr>\n",
       "    <tr>\n",
       "      <th>PaperlessBilling</th>\n",
       "      <th></th>\n",
       "    </tr>\n",
       "  </thead>\n",
       "  <tbody>\n",
       "    <tr>\n",
       "      <th>No</th>\n",
       "      <td>0.163757</td>\n",
       "    </tr>\n",
       "    <tr>\n",
       "      <th>Yes</th>\n",
       "      <td>0.335893</td>\n",
       "    </tr>\n",
       "  </tbody>\n",
       "</table>\n",
       "</div>"
      ],
      "text/plain": [
       "                     Churn\n",
       "PaperlessBilling          \n",
       "No                0.163757\n",
       "Yes               0.335893"
      ]
     },
     "execution_count": 37,
     "metadata": {},
     "output_type": "execute_result"
    }
   ],
   "source": [
    "df2[['PaperlessBilling' , 'Churn']].groupby(['PaperlessBilling']).mean()"
   ]
  },
  {
   "cell_type": "code",
   "execution_count": 38,
   "id": "855c120c-12ac-4a87-ae7f-072d91c552f6",
   "metadata": {
    "execution": {
     "iopub.execute_input": "2025-06-26T18:59:44.493017Z",
     "iopub.status.busy": "2025-06-26T18:59:44.492634Z",
     "iopub.status.idle": "2025-06-26T18:59:44.500464Z",
     "shell.execute_reply": "2025-06-26T18:59:44.499165Z"
    },
    "papermill": {
     "duration": 0.032538,
     "end_time": "2025-06-26T18:59:44.502636",
     "exception": false,
     "start_time": "2025-06-26T18:59:44.470098",
     "status": "completed"
    },
    "tags": []
   },
   "outputs": [
    {
     "name": "stdout",
     "output_type": "stream",
     "text": [
      "InternetService\n",
      "Fiber optic    3096\n",
      "DSL            2416\n",
      "No             1520\n",
      "Name: count, dtype: int64\n"
     ]
    }
   ],
   "source": [
    "print(df['InternetService'].value_counts())"
   ]
  },
  {
   "cell_type": "code",
   "execution_count": 39,
   "id": "4b54bd2c-5bd2-4490-9881-a2f2aa525f71",
   "metadata": {
    "execution": {
     "iopub.execute_input": "2025-06-26T18:59:44.545173Z",
     "iopub.status.busy": "2025-06-26T18:59:44.544749Z",
     "iopub.status.idle": "2025-06-26T18:59:44.726881Z",
     "shell.execute_reply": "2025-06-26T18:59:44.725790Z"
    },
    "papermill": {
     "duration": 0.206185,
     "end_time": "2025-06-26T18:59:44.729309",
     "exception": false,
     "start_time": "2025-06-26T18:59:44.523124",
     "status": "completed"
    },
    "tags": []
   },
   "outputs": [
    {
     "data": {
      "text/plain": [
       "Text(0.5, 0, 'InternetService')"
      ]
     },
     "execution_count": 39,
     "metadata": {},
     "output_type": "execute_result"
    },
    {
     "data": {
      "image/png": "[encoded data removed]",
      "text/plain": [
       "<Figure size 640x480 with 1 Axes>"
      ]
     },
     "metadata": {},
     "output_type": "display_data"
    }
   ],
   "source": [
    "#now we will analyse the features which is having more than 2 features:\n",
    "#internet service\n",
    "colors = ['#4D3425','#E4512B' ,'#3E5124']\n",
    "#ax=(df['InternetService'].value_counts()*100.0 /len(df)).plot(kind='bar',stacked=True,rot=0,color=colors)\n",
    "#ax.yaxis.set_major_formatter(mtick.PercentFormatter())\n",
    "\n",
    "ax=(df['InternetService'].value_counts()).plot(kind='bar',stacked = True,rot=0,color=colors)\n",
    "\n",
    "\n",
    "ax.set_ylabel(' Count' )\n",
    "ax.set_title('Internet Service')\n",
    "\n",
    "ax.set_xlabel('InternetService')\n",
    "#plt.savefig(\"dataVisualisation/InternetServiceDistribution.png\", dpi=300)"
   ]
  },
  {
   "cell_type": "code",
   "execution_count": 40,
   "id": "2ff501ba-240b-4f7a-a212-63a8d5846d1e",
   "metadata": {
    "execution": {
     "iopub.execute_input": "2025-06-26T18:59:44.825397Z",
     "iopub.status.busy": "2025-06-26T18:59:44.824646Z",
     "iopub.status.idle": "2025-06-26T18:59:44.838243Z",
     "shell.execute_reply": "2025-06-26T18:59:44.837013Z"
    },
    "papermill": {
     "duration": 0.087165,
     "end_time": "2025-06-26T18:59:44.840510",
     "exception": false,
     "start_time": "2025-06-26T18:59:44.753345",
     "status": "completed"
    },
    "tags": []
   },
   "outputs": [
    {
     "data": {
      "text/html": [
       "<div>\n",
       "<style scoped>\n",
       "    .dataframe tbody tr th:only-of-type {\n",
       "        vertical-align: middle;\n",
       "    }\n",
       "\n",
       "    .dataframe tbody tr th {\n",
       "        vertical-align: top;\n",
       "    }\n",
       "\n",
       "    .dataframe thead th {\n",
       "        text-align: right;\n",
       "    }\n",
       "</style>\n",
       "<table border=\"1\" class=\"dataframe\">\n",
       "  <thead>\n",
       "    <tr style=\"text-align: right;\">\n",
       "      <th></th>\n",
       "      <th>Churn</th>\n",
       "    </tr>\n",
       "    <tr>\n",
       "      <th>InternetService</th>\n",
       "      <th></th>\n",
       "    </tr>\n",
       "  </thead>\n",
       "  <tbody>\n",
       "    <tr>\n",
       "      <th>DSL</th>\n",
       "      <td>0.189983</td>\n",
       "    </tr>\n",
       "    <tr>\n",
       "      <th>Fiber optic</th>\n",
       "      <td>0.418928</td>\n",
       "    </tr>\n",
       "    <tr>\n",
       "      <th>No</th>\n",
       "      <td>0.074342</td>\n",
       "    </tr>\n",
       "  </tbody>\n",
       "</table>\n",
       "</div>"
      ],
      "text/plain": [
       "                    Churn\n",
       "InternetService          \n",
       "DSL              0.189983\n",
       "Fiber optic      0.418928\n",
       "No               0.074342"
      ]
     },
     "execution_count": 40,
     "metadata": {},
     "output_type": "execute_result"
    }
   ],
   "source": [
    "df2[['InternetService' , 'Churn']].groupby('InternetService').mean()"
   ]
  },
  {
   "cell_type": "code",
   "execution_count": 41,
   "id": "f713d2da-d372-4832-9e37-ff44797f14dc",
   "metadata": {
    "execution": {
     "iopub.execute_input": "2025-06-26T18:59:44.884199Z",
     "iopub.status.busy": "2025-06-26T18:59:44.883385Z",
     "iopub.status.idle": "2025-06-26T18:59:45.052883Z",
     "shell.execute_reply": "2025-06-26T18:59:45.051756Z"
    },
    "papermill": {
     "duration": 0.193769,
     "end_time": "2025-06-26T18:59:45.055053",
     "exception": false,
     "start_time": "2025-06-26T18:59:44.861284",
     "status": "completed"
    },
    "tags": []
   },
   "outputs": [
    {
     "data": {
      "text/plain": [
       "Text(0.5, 1.0, 'StreamingTV')"
      ]
     },
     "execution_count": 41,
     "metadata": {},
     "output_type": "execute_result"
    },
    {
     "data": {
      "image/png": "[encoded data removed]",
      "text/plain": [
       "<Figure size 640x480 with 1 Axes>"
      ]
     },
     "metadata": {},
     "output_type": "display_data"
    }
   ],
   "source": [
    "colors = ['#4D3425','#E4512B' ,'#3E5124']\n",
    "ax=(df['StreamingTV'].value_counts()).plot(kind='bar',color=colors,rot=0)\n",
    "ax.set_ylabel('Counts')\n",
    "ax.set_title('StreamingTV')\n",
    "#plt.savefig(\"dataVisualisation/StreamingTVDistribution.png\", dpi=300)"
   ]
  },
  {
   "cell_type": "code",
   "execution_count": 42,
   "id": "b82527db-692b-4f8d-af90-02a5b158b65f",
   "metadata": {
    "execution": {
     "iopub.execute_input": "2025-06-26T18:59:45.101920Z",
     "iopub.status.busy": "2025-06-26T18:59:45.101473Z",
     "iopub.status.idle": "2025-06-26T18:59:45.117826Z",
     "shell.execute_reply": "2025-06-26T18:59:45.116706Z"
    },
    "papermill": {
     "duration": 0.043253,
     "end_time": "2025-06-26T18:59:45.120050",
     "exception": false,
     "start_time": "2025-06-26T18:59:45.076797",
     "status": "completed"
    },
    "tags": []
   },
   "outputs": [
    {
     "data": {
      "text/html": [
       "<div>\n",
       "<style scoped>\n",
       "    .dataframe tbody tr th:only-of-type {\n",
       "        vertical-align: middle;\n",
       "    }\n",
       "\n",
       "    .dataframe tbody tr th {\n",
       "        vertical-align: top;\n",
       "    }\n",
       "\n",
       "    .dataframe thead th {\n",
       "        text-align: right;\n",
       "    }\n",
       "</style>\n",
       "<table border=\"1\" class=\"dataframe\">\n",
       "  <thead>\n",
       "    <tr style=\"text-align: right;\">\n",
       "      <th></th>\n",
       "      <th>Churn</th>\n",
       "    </tr>\n",
       "    <tr>\n",
       "      <th>StreamingTV</th>\n",
       "      <th></th>\n",
       "    </tr>\n",
       "  </thead>\n",
       "  <tbody>\n",
       "    <tr>\n",
       "      <th>No</th>\n",
       "      <td>0.335351</td>\n",
       "    </tr>\n",
       "    <tr>\n",
       "      <th>No internet service</th>\n",
       "      <td>0.074342</td>\n",
       "    </tr>\n",
       "    <tr>\n",
       "      <th>Yes</th>\n",
       "      <td>0.301147</td>\n",
       "    </tr>\n",
       "  </tbody>\n",
       "</table>\n",
       "</div>"
      ],
      "text/plain": [
       "                        Churn\n",
       "StreamingTV                  \n",
       "No                   0.335351\n",
       "No internet service  0.074342\n",
       "Yes                  0.301147"
      ]
     },
     "execution_count": 42,
     "metadata": {},
     "output_type": "execute_result"
    }
   ],
   "source": [
    "df2[['StreamingTV' , 'Churn']].groupby('StreamingTV').mean()"
   ]
  },
  {
   "cell_type": "code",
   "execution_count": 43,
   "id": "3b475bfb-40ad-4f38-90b3-ebe25d2c31df",
   "metadata": {
    "execution": {
     "iopub.execute_input": "2025-06-26T18:59:45.165508Z",
     "iopub.status.busy": "2025-06-26T18:59:45.164438Z",
     "iopub.status.idle": "2025-06-26T18:59:45.409872Z",
     "shell.execute_reply": "2025-06-26T18:59:45.408797Z"
    },
    "papermill": {
     "duration": 0.270949,
     "end_time": "2025-06-26T18:59:45.412279",
     "exception": false,
     "start_time": "2025-06-26T18:59:45.141330",
     "status": "completed"
    },
    "tags": []
   },
   "outputs": [
    {
     "data": {
      "text/plain": [
       "Text(0.5, 1.0, 'TechSupport')"
      ]
     },
     "execution_count": 43,
     "metadata": {},
     "output_type": "execute_result"
    },
    {
     "data": {
      "image/png": "[encoded data removed]",
      "text/plain": [
       "<Figure size 500x500 with 1 Axes>"
      ]
     },
     "metadata": {},
     "output_type": "display_data"
    }
   ],
   "source": [
    "ax = (df['TechSupport'].value_counts()*100.0 / len(df))\\\n",
    ".plot.pie(autopct='%.1f%%', labels = ['No' , 'Yes' , 'Internet Service'] ,figsize =(5,5) , fontsize = 12) \n",
    "ax.yaxis.set_major_formatter(mtick.PercentFormatter())\n",
    "ax.set_ylabel('Count %')\n",
    "ax.set_title('TechSupport')\n",
    "#plt.savefig(\"dataVisualisation/TechSupportDistribution.png\", dpi=300)"
   ]
  },
  {
   "cell_type": "code",
   "execution_count": 44,
   "id": "82f349b6-ce57-4aaf-83b6-906631652533",
   "metadata": {
    "execution": {
     "iopub.execute_input": "2025-06-26T18:59:45.461920Z",
     "iopub.status.busy": "2025-06-26T18:59:45.460685Z",
     "iopub.status.idle": "2025-06-26T18:59:45.473918Z",
     "shell.execute_reply": "2025-06-26T18:59:45.472842Z"
    },
    "papermill": {
     "duration": 0.040634,
     "end_time": "2025-06-26T18:59:45.476220",
     "exception": false,
     "start_time": "2025-06-26T18:59:45.435586",
     "status": "completed"
    },
    "tags": []
   },
   "outputs": [
    {
     "data": {
      "text/html": [
       "<div>\n",
       "<style scoped>\n",
       "    .dataframe tbody tr th:only-of-type {\n",
       "        vertical-align: middle;\n",
       "    }\n",
       "\n",
       "    .dataframe tbody tr th {\n",
       "        vertical-align: top;\n",
       "    }\n",
       "\n",
       "    .dataframe thead th {\n",
       "        text-align: right;\n",
       "    }\n",
       "</style>\n",
       "<table border=\"1\" class=\"dataframe\">\n",
       "  <thead>\n",
       "    <tr style=\"text-align: right;\">\n",
       "      <th></th>\n",
       "      <th>Churn</th>\n",
       "    </tr>\n",
       "    <tr>\n",
       "      <th>TechSupport</th>\n",
       "      <th></th>\n",
       "    </tr>\n",
       "  </thead>\n",
       "  <tbody>\n",
       "    <tr>\n",
       "      <th>No</th>\n",
       "      <td>0.416475</td>\n",
       "    </tr>\n",
       "    <tr>\n",
       "      <th>No internet service</th>\n",
       "      <td>0.074342</td>\n",
       "    </tr>\n",
       "    <tr>\n",
       "      <th>Yes</th>\n",
       "      <td>0.151961</td>\n",
       "    </tr>\n",
       "  </tbody>\n",
       "</table>\n",
       "</div>"
      ],
      "text/plain": [
       "                        Churn\n",
       "TechSupport                  \n",
       "No                   0.416475\n",
       "No internet service  0.074342\n",
       "Yes                  0.151961"
      ]
     },
     "execution_count": 44,
     "metadata": {},
     "output_type": "execute_result"
    }
   ],
   "source": [
    "df2[['TechSupport' ,'Churn']].groupby('TechSupport').mean()"
   ]
  },
  {
   "cell_type": "code",
   "execution_count": 45,
   "id": "665a430b-0d85-4bb1-adc9-f2147064cd62",
   "metadata": {
    "execution": {
     "iopub.execute_input": "2025-06-26T18:59:45.523868Z",
     "iopub.status.busy": "2025-06-26T18:59:45.522834Z",
     "iopub.status.idle": "2025-06-26T18:59:45.618947Z",
     "shell.execute_reply": "2025-06-26T18:59:45.617807Z"
    },
    "papermill": {
     "duration": 0.122929,
     "end_time": "2025-06-26T18:59:45.621328",
     "exception": false,
     "start_time": "2025-06-26T18:59:45.498399",
     "status": "completed"
    },
    "tags": []
   },
   "outputs": [
    {
     "data": {
      "text/plain": [
       "Text(0.5, 0, 'Online_Security')"
      ]
     },
     "execution_count": 45,
     "metadata": {},
     "output_type": "execute_result"
    },
    {
     "data": {
      "image/png": "[encoded data removed]",
      "text/plain": [
       "<Figure size 500x500 with 1 Axes>"
      ]
     },
     "metadata": {},
     "output_type": "display_data"
    }
   ],
   "source": [
    "ax = (df['OnlineSecurity'].value_counts()*100.0/len(df))\\\n",
    ".plot.pie(autopct='%.1f%%', labels=['Yes','No','OnlineSecurity'],figsize = (5,5),fontsize=12)\n",
    "\n",
    "ax.yaxis.set_major_formatter(mtick.PercentFormatter())\n",
    "ax.set_ylabel('count%')\n",
    "ax.set_title('OnlineSecurity')\n",
    "ax.set_xlabel('Online_Security')\n",
    "#plt.savefig(\"dataVisualisation/Online_SecurityDistribution.png\", dpi=300)"
   ]
  },
  {
   "cell_type": "code",
   "execution_count": 46,
   "id": "48cfe7ac-543d-4f2f-9c70-978b6160a33e",
   "metadata": {
    "execution": {
     "iopub.execute_input": "2025-06-26T18:59:45.672856Z",
     "iopub.status.busy": "2025-06-26T18:59:45.671562Z",
     "iopub.status.idle": "2025-06-26T18:59:45.685612Z",
     "shell.execute_reply": "2025-06-26T18:59:45.684495Z"
    },
    "papermill": {
     "duration": 0.043299,
     "end_time": "2025-06-26T18:59:45.687967",
     "exception": false,
     "start_time": "2025-06-26T18:59:45.644668",
     "status": "completed"
    },
    "tags": []
   },
   "outputs": [
    {
     "data": {
      "text/html": [
       "<div>\n",
       "<style scoped>\n",
       "    .dataframe tbody tr th:only-of-type {\n",
       "        vertical-align: middle;\n",
       "    }\n",
       "\n",
       "    .dataframe tbody tr th {\n",
       "        vertical-align: top;\n",
       "    }\n",
       "\n",
       "    .dataframe thead th {\n",
       "        text-align: right;\n",
       "    }\n",
       "</style>\n",
       "<table border=\"1\" class=\"dataframe\">\n",
       "  <thead>\n",
       "    <tr style=\"text-align: right;\">\n",
       "      <th></th>\n",
       "      <th>Churn</th>\n",
       "    </tr>\n",
       "    <tr>\n",
       "      <th>OnlineSecurity</th>\n",
       "      <th></th>\n",
       "    </tr>\n",
       "  </thead>\n",
       "  <tbody>\n",
       "    <tr>\n",
       "      <th>No</th>\n",
       "      <td>0.417787</td>\n",
       "    </tr>\n",
       "    <tr>\n",
       "      <th>No internet service</th>\n",
       "      <td>0.074342</td>\n",
       "    </tr>\n",
       "    <tr>\n",
       "      <th>Yes</th>\n",
       "      <td>0.146402</td>\n",
       "    </tr>\n",
       "  </tbody>\n",
       "</table>\n",
       "</div>"
      ],
      "text/plain": [
       "                        Churn\n",
       "OnlineSecurity               \n",
       "No                   0.417787\n",
       "No internet service  0.074342\n",
       "Yes                  0.146402"
      ]
     },
     "execution_count": 46,
     "metadata": {},
     "output_type": "execute_result"
    }
   ],
   "source": [
    "df2[['OnlineSecurity' , 'Churn']].groupby('OnlineSecurity').mean()"
   ]
  },
  {
   "cell_type": "code",
   "execution_count": null,
   "id": "b6a4f302-44f4-4e6c-b7fd-954200662e58",
   "metadata": {
    "papermill": {
     "duration": null,
     "end_time": null,
     "exception": false,
     "start_time": "2025-06-26T18:59:45.710887",
     "status": "running"
    },
    "tags": []
   },
   "outputs": [],
   "source": [
    "ax=sns.displot(df['tenure'],binwidth=2,color = 'red',bins=30,kde = True)\n",
    "plt.xlabel('Tenure (months)')\n",
    "plt.ylabel('# of Customers')\n",
    "plt.title('# of Customers by their tenure')\n",
    "#plt.savefig(\"dataVisualisation/TenureDistribution.png\", dpi=300)"
   ]
  },
  {
   "cell_type": "code",
   "execution_count": null,
   "id": "147e3c2c-3cd0-4007-bbd5-9cb8d1ee878d",
   "metadata": {
    "papermill": {
     "duration": null,
     "end_time": null,
     "exception": null,
     "start_time": null,
     "status": "pending"
    },
    "tags": []
   },
   "outputs": [],
   "source": [
    "ax=df['Contract'].value_counts().plot(kind='bar',rot=0,width=0.3)\n",
    "ax.set_ylabel('# of Customers')\n",
    "ax.set_title('# of Customers by Contract Type')\n",
    "#plt.savefig(\"dataVisualisation/ContractDistribution.png\", dpi=300)"
   ]
  },
  {
   "cell_type": "code",
   "execution_count": null,
   "id": "c2ead438-36a9-491f-a4db-c69b146860e2",
   "metadata": {
    "papermill": {
     "duration": null,
     "end_time": null,
     "exception": null,
     "start_time": null,
     "status": "pending"
    },
    "tags": []
   },
   "outputs": [],
   "source": [
    "ax1 = sns.displot(df[df['Contract']=='Month-to-month']['tenure'] , binwidth=2,color = 'lightblue',bins=30)\n",
    "plt.xlabel('Tenure (months)')\n",
    "plt.ylabel('# of Customers')\n",
    "plt.title('Month to Month Contract')\n",
    "#plt.savefig(\"dataVisualisation/Month_to_MonthDistribution.png\", dpi=300)\n"
   ]
  },
  {
   "cell_type": "code",
   "execution_count": null,
   "id": "c441d4f6-777d-475b-9c93-d64d0e304e06",
   "metadata": {
    "papermill": {
     "duration": null,
     "end_time": null,
     "exception": null,
     "start_time": null,
     "status": "pending"
    },
    "tags": []
   },
   "outputs": [],
   "source": [
    "#the customer who is taking the month to month contract are having the short tenures and less loyal"
   ]
  },
  {
   "cell_type": "code",
   "execution_count": null,
   "id": "87231f2c-6803-44a7-964c-6830bed8c105",
   "metadata": {
    "papermill": {
     "duration": null,
     "end_time": null,
     "exception": null,
     "start_time": null,
     "status": "pending"
    },
    "tags": []
   },
   "outputs": [],
   "source": [
    "\n",
    "ax1=sns.displot(df[df['Contract']=='One year']['tenure'],binwidth=2,color='red',bins=30)\n",
    "\n",
    "plt.xlabel('Tenure (months)')\n",
    "plt.ylabel('# of Customers')\n",
    "plt.title('One Year Contract')\n",
    "#plt.savefig(\"dataVisualisation/oneYearDistribution.png\", dpi=300)"
   ]
  },
  {
   "cell_type": "code",
   "execution_count": null,
   "id": "8f35a28a-118a-43da-beaf-86045085aa67",
   "metadata": {
    "papermill": {
     "duration": null,
     "end_time": null,
     "exception": null,
     "start_time": null,
     "status": "pending"
    },
    "tags": []
   },
   "outputs": [],
   "source": [
    "ax2=sns.displot(df[df['Contract']=='Two year']['tenure'],binwidth=2,color='green',bins=30)\n",
    "plt.xlabel('Tenure (months)')\n",
    "plt.ylabel('# of Customers')\n",
    "plt.title('Two Year Contract')\n",
    "#plt.savefig(\"dataVisualisation/two_YearDistribution.png\", dpi=300)"
   ]
  },
  {
   "cell_type": "code",
   "execution_count": null,
   "id": "58f1de6c-d8a5-41c3-a192-dd57824d6587",
   "metadata": {
    "papermill": {
     "duration": null,
     "end_time": null,
     "exception": null,
     "start_time": null,
     "status": "pending"
    },
    "tags": []
   },
   "outputs": [],
   "source": [
    "df.columns.values"
   ]
  },
  {
   "cell_type": "code",
   "execution_count": null,
   "id": "25c154af-272f-45b3-9cf8-3dcf214d134e",
   "metadata": {
    "papermill": {
     "duration": null,
     "end_time": null,
     "exception": null,
     "start_time": null,
     "status": "pending"
    },
    "tags": []
   },
   "outputs": [],
   "source": [
    "columns = df.columns  #will findout the features which would be having the 2 values exact\n",
    "binary_cols1 = []\n",
    "\n",
    "for col in columns:\n",
    "    if df[col].value_counts().shape[0] ==3:\n",
    "        binary_cols1.append(col)\n",
    "\n",
    "binary_cols1  #categorical features with two classes"
   ]
  },
  {
   "cell_type": "code",
   "execution_count": null,
   "id": "cf40b6d0-8ea5-4cbb-a28a-c7a465382e4c",
   "metadata": {
    "papermill": {
     "duration": null,
     "end_time": null,
     "exception": null,
     "start_time": null,
     "status": "pending"
    },
    "tags": []
   },
   "outputs": [],
   "source": [
    "services = ['PhoneService','MultipleLines','InternetService','OnlineSecurity',\n",
    "           'OnlineBackup','DeviceProtection','TechSupport','StreamingTV','StreamingMovies']\n",
    "\n",
    "fig, axes = plt.subplots(nrows = 3,ncols = 3,figsize = (15,20))\n",
    "for i, item in enumerate(services):\n",
    "    if i < 3:\n",
    "        ax = df[item].value_counts().plot(kind = 'bar',ax=axes[i,0],rot = 0)\n",
    "        \n",
    "    elif i >=3 and i < 6:\n",
    "        ax = df[item].value_counts().plot(kind = 'bar',ax=axes[i-3,1],rot = 0)\n",
    "        \n",
    "    elif i < 9:\n",
    "        ax = df[item].value_counts().plot(kind = 'bar',ax=axes[i-6,2],rot = 0)\n",
    "    ax.set_title(item)\n",
    "  #  plt.savefig(\"dataVisualisation/PhoneServiceDistribution.png\", dpi=300)\n",
    "   # plt.savefig(\"dataVisualisation/MultipleLinesDistribution.png\", dpi=300)\n",
    "    #plt.savefig(\"dataVisualisation/OnlineBackupDistribution.png\", dpi=300)\n",
    "    #plt.savefig(\"dataVisualisation/DeviceProtectionDistribution.png\", dpi=300)\n",
    "    #plt.savefig(\"dataVisualisation/StreamingMoviesDistribution.png\", dpi=300)\n"
   ]
  },
  {
   "cell_type": "code",
   "execution_count": null,
   "id": "547ab504-497b-477f-aa69-c8fc5fb3a349",
   "metadata": {
    "papermill": {
     "duration": null,
     "end_time": null,
     "exception": null,
     "start_time": null,
     "status": "pending"
    },
    "tags": []
   },
   "outputs": [],
   "source": [
    "df[['MonthlyCharges','TotalCharges']].plot.scatter(x='MonthlyCharges',y='TotalCharges')\n",
    "#plt.savefig(\"dataVisualisation/month_VS_totalCharges.png\", dpi=300)"
   ]
  },
  {
   "cell_type": "code",
   "execution_count": null,
   "id": "186b78ca-61dd-4ce1-ba99-eb8f37369505",
   "metadata": {
    "papermill": {
     "duration": null,
     "end_time": null,
     "exception": null,
     "start_time": null,
     "status": "pending"
    },
    "tags": []
   },
   "outputs": [],
   "source": [
    "#now we will ckeck the skewness of our predicted data\n",
    "# and will check the behaviour of rest of the field with churn"
   ]
  },
  {
   "cell_type": "code",
   "execution_count": null,
   "id": "904bff79-1805-4dfc-a1e6-7ceefc62e6ce",
   "metadata": {
    "papermill": {
     "duration": null,
     "end_time": null,
     "exception": null,
     "start_time": null,
     "status": "pending"
    },
    "tags": []
   },
   "outputs": [],
   "source": [
    "\n",
    "x=list(df.Churn.value_counts())\n",
    "print('No' , x[0]/(x[0]+x[1])*100 ,'%')\n",
    "print('Yes' , x[1]/(x[0]+x[1])*100 ,'%')\n",
    "df['Churn'].value_counts()"
   ]
  },
  {
   "cell_type": "code",
   "execution_count": null,
   "id": "790ffb9c-c89f-49c1-a049-86f09f66d4dc",
   "metadata": {
    "papermill": {
     "duration": null,
     "end_time": null,
     "exception": null,
     "start_time": null,
     "status": "pending"
    },
    "tags": []
   },
   "outputs": [],
   "source": [
    "colors = ['#4D3425','#E4512B']\n",
    "\n",
    "ax=(df['Churn'].value_counts()*100.0/len(df)).plot(kind='bar' , color=colors,rot=0,stacked=True,fig=(4,2))\n",
    "\n",
    "ax.yaxis.set_major_formatter(mtick.PercentFormatter())\n",
    "ax.set_ylabel('% Customers',size = 14)\n",
    "ax.set_xlabel('Churn',size = 14)\n",
    "ax.set_title('Churn Rate', size = 14)\n",
    "#plt.savefig(\"dataVisualisation/ChurnRate.png\", dpi=300)"
   ]
  },
  {
   "cell_type": "code",
   "execution_count": null,
   "id": "3941f1b8-538a-4586-8d09-c8d82d0c3b5d",
   "metadata": {
    "papermill": {
     "duration": null,
     "end_time": null,
     "exception": null,
     "start_time": null,
     "status": "pending"
    },
    "tags": []
   },
   "outputs": [],
   "source": [
    "# now we will do eda of all fields with churn"
   ]
  },
  {
   "cell_type": "code",
   "execution_count": null,
   "id": "64675bcd-3af8-4ddd-9514-afb958f7047d",
   "metadata": {
    "papermill": {
     "duration": null,
     "end_time": null,
     "exception": null,
     "start_time": null,
     "status": "pending"
    },
    "tags": []
   },
   "outputs": [],
   "source": [
    "sns.boxplot(x=df.Churn, y=df.tenure)\n",
    "#plt.savefig(\"dataVisualisation/Tenure_vs_churn.png\", dpi=300)"
   ]
  },
  {
   "cell_type": "code",
   "execution_count": null,
   "id": "b85f6969-659c-4a6d-a8a0-f1f7159a65a2",
   "metadata": {
    "papermill": {
     "duration": null,
     "end_time": null,
     "exception": null,
     "start_time": null,
     "status": "pending"
    },
    "tags": []
   },
   "outputs": [],
   "source": [
    "colors = ['#4D3425','#E4512B']\n",
    "\n",
    "contract_churn=df.groupby(['Contract','Churn']).size().unstack()\n",
    "print(contract_churn)"
   ]
  },
  {
   "cell_type": "code",
   "execution_count": null,
   "id": "be94865a-81be-4507-ab6f-36f0e15640cd",
   "metadata": {
    "papermill": {
     "duration": null,
     "end_time": null,
     "exception": null,
     "start_time": null,
     "status": "pending"
    },
    "tags": []
   },
   "outputs": [],
   "source": [
    "colors = ['#4D3425','#E4512B']\n",
    "\n",
    "contract_churn=df.groupby(['Contract','Churn']).size().unstack()\n",
    "\n",
    "print(contract_churn.T)"
   ]
  },
  {
   "cell_type": "code",
   "execution_count": null,
   "id": "3ef18b9a-00cd-4a3b-90aa-6ceac888f152",
   "metadata": {
    "papermill": {
     "duration": null,
     "end_time": null,
     "exception": null,
     "start_time": null,
     "status": "pending"
    },
    "tags": []
   },
   "outputs": [],
   "source": [
    "colors = ['#4D3425','#E4512B']\n",
    "contract_churn = df.groupby(['Contract','Churn']).size().unstack(level=0)\n",
    "\n",
    "print(contract_churn*100.0/ contract_churn.sum())"
   ]
  },
  {
   "cell_type": "code",
   "execution_count": null,
   "id": "ad2c8af8-76c9-4073-a971-37146baa3d61",
   "metadata": {
    "papermill": {
     "duration": null,
     "end_time": null,
     "exception": null,
     "start_time": null,
     "status": "pending"
    },
    "tags": []
   },
   "outputs": [],
   "source": [
    "\n",
    "colors = ['#4D3425', '#E4512B', '#1F77B4', '#FF7F0E']\n",
    "\n",
    "contract_churn = df.groupby(['Contract','Churn']).size().unstack()\n",
    "\n",
    "ax=(contract_churn.T*100.0/ contract_churn.T.sum()).T.plot(kind='bar',width=0.3,stacked=True,rot=0,figsize=(10,6),color=colors)\n",
    "\n",
    "ax.yaxis.set_major_formatter(mtick.PercentFormatter())\n",
    "\n",
    "ax.legend(loc='best',prop={'size':10},title = 'Churn')\n",
    "\n",
    "ax.set_ylabel('% Customers',size = 14)\n",
    "ax.set_title('Churn by Contract Type',size = 14)\n",
    "\n",
    "ax.set_xticklabels(ax.get_xticklabels(), rotation=45, ha='right')\n",
    "#plt.savefig(\"dataVisualisation/churn_vs_contractType.png\", dpi=300)"
   ]
  },
  {
   "cell_type": "code",
   "execution_count": null,
   "id": "0c7dfa99-cc85-409c-9461-076550f51656",
   "metadata": {
    "papermill": {
     "duration": null,
     "end_time": null,
     "exception": null,
     "start_time": null,
     "status": "pending"
    },
    "tags": []
   },
   "outputs": [],
   "source": [
    "df.MonthlyCharges.value_counts()"
   ]
  },
  {
   "cell_type": "code",
   "execution_count": null,
   "id": "62209e65-db65-4967-a4e0-a083c5eaeb0a",
   "metadata": {
    "papermill": {
     "duration": null,
     "end_time": null,
     "exception": null,
     "start_time": null,
     "status": "pending"
    },
    "tags": []
   },
   "outputs": [],
   "source": [
    "ax=sns.kdeplot(df.MonthlyCharges[(df['Churn'] == 'No')],color=\"Red\", shade = True)\n",
    "\n",
    "ax=sns.kdeplot(df.MonthlyCharges[(df['Churn'] == 'Yes')],color='blue',shade=True)\n",
    "\n",
    "ax.legend([\"Not Churn\",\"Churn\"],loc='upper right')\n",
    "\n",
    "ax.set_ylabel('Density')\n",
    "ax.set_xlabel('Monthly Charges')\n",
    "ax.set_title('Distribution of monthly charges by churn')\n",
    "#plt.savefig(\"dataVisualisation/Monthly_ChargesDistribution.png\", dpi=300)"
   ]
  },
  {
   "cell_type": "code",
   "execution_count": null,
   "id": "12e0c509-0736-4951-b38b-a695585058d4",
   "metadata": {
    "papermill": {
     "duration": null,
     "end_time": null,
     "exception": null,
     "start_time": null,
     "status": "pending"
    },
    "tags": []
   },
   "outputs": [],
   "source": [
    "#we can see that highest % of customer churned when the monthly charges are high\n",
    "#below method also we can use it to visualise the same using histogram"
   ]
  },
  {
   "cell_type": "code",
   "execution_count": null,
   "id": "6b0e44a5-270c-4aaa-9c9c-a175eb75b44d",
   "metadata": {
    "papermill": {
     "duration": null,
     "end_time": null,
     "exception": null,
     "start_time": null,
     "status": "pending"
    },
    "tags": []
   },
   "outputs": [],
   "source": [
    "\n",
    "# Define the data\n",
    "no_churn = df.MonthlyCharges[df['Churn'] == 'No']\n",
    "yes_churn = df.MonthlyCharges[df['Churn'] == 'Yes']\n",
    "\n",
    "# Create the plot\n",
    "plt.figure(figsize=(10, 6))\n",
    "\n",
    "# Plot histograms\n",
    "plt.hist(no_churn, bins=30, color='red', alpha=0.5, label='Not Churn')\n",
    "plt.hist(yes_churn, bins=30, color='blue', alpha=0.5, label='Churn')\n",
    "\n",
    "# Add labels and title\n",
    "plt.xlabel('Monthly Charges')\n",
    "plt.ylabel('Frequency')\n",
    "plt.title('Distribution of Monthly Charges by Churn')\n",
    "plt.legend(loc='upper right')\n",
    "\n",
    "# Show the plot\n",
    "plt.show()\n"
   ]
  },
  {
   "cell_type": "code",
   "execution_count": null,
   "id": "4220ad3a-0065-4d79-917a-93bc5164f8b4",
   "metadata": {
    "papermill": {
     "duration": null,
     "end_time": null,
     "exception": null,
     "start_time": null,
     "status": "pending"
    },
    "tags": []
   },
   "outputs": [],
   "source": [
    "df.TotalCharges.value_counts().head()"
   ]
  },
  {
   "cell_type": "code",
   "execution_count": null,
   "id": "3c05f07e-81b3-4cbf-bf62-83682441d929",
   "metadata": {
    "papermill": {
     "duration": null,
     "end_time": null,
     "exception": null,
     "start_time": null,
     "status": "pending"
    },
    "tags": []
   },
   "outputs": [],
   "source": [
    "\n",
    "# Define the data\n",
    "no_churn = df.TotalCharges[df['Churn'] == 'No']\n",
    "yes_churn = df.TotalCharges[df['Churn'] == 'Yes']\n",
    "\n",
    "# Create the plot\n",
    "plt.figure(figsize=(10, 6))\n",
    "\n",
    "# Plot histograms\n",
    "plt.hist(no_churn, bins=30, color='red', alpha=0.5, label='Not Churn')\n",
    "plt.hist(yes_churn, bins=30, color='blue', alpha=0.5, label='Churn')\n",
    "\n",
    "# Add labels and title\n",
    "plt.xlabel('TotalCharges')\n",
    "plt.ylabel('Frequency')\n",
    "plt.title('Distribution of TotalCharges by Churn')\n",
    "plt.legend(loc='upper right')\n",
    "\n",
    "# Show the plot\n",
    "plt.show()\n",
    "\n",
    "#result --churn rate is high when total charges are low\n",
    "#plt.savefig(\"dataVisualisation/Totaol_charges_Distribution.png\", dpi=300)"
   ]
  },
  {
   "cell_type": "code",
   "execution_count": null,
   "id": "b1387387-f08d-4b4a-a263-148653f7114d",
   "metadata": {
    "papermill": {
     "duration": null,
     "end_time": null,
     "exception": null,
     "start_time": null,
     "status": "pending"
    },
    "tags": []
   },
   "outputs": [],
   "source": [
    "df2[['SeniorCitizen','Churn']].groupby('SeniorCitizen').mean()"
   ]
  },
  {
   "cell_type": "code",
   "execution_count": null,
   "id": "8339adcc-d010-4931-8ee4-61297e92a780",
   "metadata": {
    "papermill": {
     "duration": null,
     "end_time": null,
     "exception": null,
     "start_time": null,
     "status": "pending"
    },
    "tags": []
   },
   "outputs": [],
   "source": [
    "colors = ['#4D3425','#E4512B']\n",
    "\n",
    "sen_churn=df.groupby(['SeniorCitizen','Churn']).size().unstack()\n",
    "ax=(sen_churn.T*100.0/sen_churn.T.sum()).T.plot(kind='bar',stacked=True,rot=0,width = 0.2,figsize=(8,6),color=colors)\n",
    "\n",
    "ax.legend(['No','Yes'],title='Churn',loc='center')\n",
    "\n",
    "ax.set_ylabel('% Customers')\n",
    "ax.set_title('Churn by Seniority Level',size = 14)\n",
    "ax.yaxis.set_major_formatter(mtick.PercentFormatter())\n",
    "#plt.savefig(\"dataVisualisation/churn_vs_seniority.png\", dpi=300)"
   ]
  },
  {
   "cell_type": "code",
   "execution_count": null,
   "id": "0ffb4864-c25f-47c4-8e72-cb56791df08f",
   "metadata": {
    "papermill": {
     "duration": null,
     "end_time": null,
     "exception": null,
     "start_time": null,
     "status": "pending"
    },
    "tags": []
   },
   "outputs": [],
   "source": [
    "df_dummies = pd.get_dummies(df2)\n",
    "df_dummies.head()"
   ]
  },
  {
   "cell_type": "code",
   "execution_count": null,
   "id": "93525dc6-7373-489c-8983-a6e705706873",
   "metadata": {
    "papermill": {
     "duration": null,
     "end_time": null,
     "exception": null,
     "start_time": null,
     "status": "pending"
    },
    "tags": []
   },
   "outputs": [],
   "source": [
    "#now  EDA is done  now we will go with some predictive models and compare their performances.\n",
    "# We will use the data frame where we had created dummy variables\n",
    "\n",
    "#1. Logistic Regression"
   ]
  },
  {
   "cell_type": "code",
   "execution_count": null,
   "id": "6c7eb057-1e22-42bd-b032-1f3127258c5d",
   "metadata": {
    "papermill": {
     "duration": null,
     "end_time": null,
     "exception": null,
     "start_time": null,
     "status": "pending"
    },
    "tags": []
   },
   "outputs": [],
   "source": [
    "Y=df_dummies['Churn'].values\n",
    "print(Y)"
   ]
  },
  {
   "cell_type": "code",
   "execution_count": null,
   "id": "71f1e175-b1d1-4f69-9af7-e18bd1e445c2",
   "metadata": {
    "papermill": {
     "duration": null,
     "end_time": null,
     "exception": null,
     "start_time": null,
     "status": "pending"
    },
    "tags": []
   },
   "outputs": [],
   "source": [
    "X=df_dummies.drop(columns=['Churn'])"
   ]
  },
  {
   "cell_type": "code",
   "execution_count": null,
   "id": "4a6ee39e-d503-485c-949c-7ebdad15ac42",
   "metadata": {
    "papermill": {
     "duration": null,
     "end_time": null,
     "exception": null,
     "start_time": null,
     "status": "pending"
    },
    "tags": []
   },
   "outputs": [],
   "source": [
    "\"\"\"The fit(data) method is used to compute the mean and std dev for a given feature so that it can be used further for scaling.\n",
    "The transform(data) method is used to perform scaling using mean and std dev calculated using the .fit() method.\n",
    "The fit_transform() method does both fit and transform.\"\"\""
   ]
  },
  {
   "cell_type": "code",
   "execution_count": null,
   "id": "bdc30496-ce86-4ef9-82c4-dc33ce2be724",
   "metadata": {
    "papermill": {
     "duration": null,
     "end_time": null,
     "exception": null,
     "start_time": null,
     "status": "pending"
    },
    "tags": []
   },
   "outputs": [],
   "source": [
    "Y=df_dummies['Churn'].values\n",
    "X=df_dummies.drop(columns=['Churn'])\n",
    "from sklearn.preprocessing import MinMaxScaler\n",
    "\n",
    "features=X.columns.values\n",
    "scaler=MinMaxScaler(feature_range=(0,1))\n",
    "model=scaler.fit(X) #will find mean and sd\n",
    "scaled_model=model.transform(X)  #will transform the data into same range i.e., scaling of data will be done\n",
    "X.columns=features\n"
   ]
  },
  {
   "cell_type": "code",
   "execution_count": null,
   "id": "24c6f1ea-96f3-477a-ace8-5783ed4e84b5",
   "metadata": {
    "papermill": {
     "duration": null,
     "end_time": null,
     "exception": null,
     "start_time": null,
     "status": "pending"
    },
    "tags": []
   },
   "outputs": [],
   "source": [
    "print(features)"
   ]
  },
  {
   "cell_type": "code",
   "execution_count": null,
   "id": "303872ed-2892-4098-81a9-0dc14554e21c",
   "metadata": {
    "papermill": {
     "duration": null,
     "end_time": null,
     "exception": null,
     "start_time": null,
     "status": "pending"
    },
    "tags": []
   },
   "outputs": [],
   "source": [
    "from sklearn.model_selection import train_test_split \n",
    "X_train, X_test, y_train, y_test=train_test_split(X,Y,test_size=0.3,random_state=101)"
   ]
  },
  {
   "cell_type": "code",
   "execution_count": null,
   "id": "c9a4c77c-e05b-4e22-ad56-0a85de22fc76",
   "metadata": {
    "papermill": {
     "duration": null,
     "end_time": null,
     "exception": null,
     "start_time": null,
     "status": "pending"
    },
    "tags": []
   },
   "outputs": [],
   "source": [
    "\n",
    "from sklearn.linear_model import LogisticRegression\n",
    "\n",
    "model = LogisticRegression(solver='liblinear', max_iter=200)\n",
    "result = model.fit(X_train, y_train)\n"
   ]
  },
  {
   "cell_type": "code",
   "execution_count": null,
   "id": "a922a42b-a735-4a8b-9169-337f523a154a",
   "metadata": {
    "papermill": {
     "duration": null,
     "end_time": null,
     "exception": null,
     "start_time": null,
     "status": "pending"
    },
    "tags": []
   },
   "outputs": [],
   "source": [
    "import joblib\n",
    "\n",
    "# Save the model to a file\n",
    "joblib.dump(model, 'model.joblib')"
   ]
  },
  {
   "cell_type": "code",
   "execution_count": null,
   "id": "fa18d5ea-127a-4118-a897-cd4d57f79144",
   "metadata": {
    "papermill": {
     "duration": null,
     "end_time": null,
     "exception": null,
     "start_time": null,
     "status": "pending"
    },
    "tags": []
   },
   "outputs": [],
   "source": [
    "model = joblib.load('model.joblib')"
   ]
  },
  {
   "cell_type": "code",
   "execution_count": null,
   "id": "5e19b1da-3bbb-4540-868d-46176cc40d84",
   "metadata": {
    "papermill": {
     "duration": null,
     "end_time": null,
     "exception": null,
     "start_time": null,
     "status": "pending"
    },
    "tags": []
   },
   "outputs": [],
   "source": [
    "from sklearn import metrics\n",
    "\n",
    "prediction_test=model.predict(X_test) #\n",
    "#y_prediction_test_proba = model.predict_proba(X_test)\n",
    "print('test :',metrics.accuracy_score(y_test,prediction_test))\n",
    "prediction_test1=model.predict(X_train)\n",
    "print('train :',metrics.accuracy_score(y_train,prediction_test1))"
   ]
  },
  {
   "cell_type": "code",
   "execution_count": null,
   "id": "79059a94-a1c6-4d3f-8924-29f1a8ec1a7d",
   "metadata": {
    "papermill": {
     "duration": null,
     "end_time": null,
     "exception": null,
     "start_time": null,
     "status": "pending"
    },
    "tags": []
   },
   "outputs": [],
   "source": []
  },
  {
   "cell_type": "code",
   "execution_count": null,
   "id": "a1f6eefa-b372-4ca2-9d2a-3ab82110cd13",
   "metadata": {
    "papermill": {
     "duration": null,
     "end_time": null,
     "exception": null,
     "start_time": null,
     "status": "pending"
    },
    "tags": []
   },
   "outputs": [],
   "source": [
    "def confusion_matrix_plot(X_train, y_train, X_test, y_test, y_pred, classifier, classifier_name):\n",
    "    cm = confusion_matrix(y_pred,y_test)\n",
    "    disp = ConfusionMatrixDisplay(confusion_matrix=cm, display_labels=[\"No Churn\", \"Churn\"])\n",
    "    disp.plot()\n",
    "    plt.title(f\"Confusion Matrix - {classifier_name}\")\n",
    "    plt.show()\n",
    "    \n",
    "    print(f\"Accuracy Score Test = {accuracy_score(y_pred,y_test)}\")\n",
    "    print(f\"Accuracy Score Train = {classifier.score(X_train,y_train)}\")\n",
    "    return print(\"\\n\")"
   ]
  },
  {
   "cell_type": "code",
   "execution_count": null,
   "id": "58730676-9195-497f-a698-7437f3ef7497",
   "metadata": {
    "papermill": {
     "duration": null,
     "end_time": null,
     "exception": null,
     "start_time": null,
     "status": "pending"
    },
    "tags": []
   },
   "outputs": [],
   "source": [
    "confusion_matrix_plot(X_train,y_train,X_test,y_test, prediction_test,model,\"Logistic Regression\")\n",
    "\n",
    "#plt.savefig(\"dataVisualisation/logistic_confusion_matrix.png\", dpi=300)"
   ]
  },
  {
   "cell_type": "code",
   "execution_count": null,
   "id": "031b72f0-47aa-472a-8a4c-98357f84745b",
   "metadata": {
    "papermill": {
     "duration": null,
     "end_time": null,
     "exception": null,
     "start_time": null,
     "status": "pending"
    },
    "tags": []
   },
   "outputs": [],
   "source": [
    "model.coef_[0]"
   ]
  },
  {
   "cell_type": "code",
   "execution_count": null,
   "id": "d6c1d947-beeb-449b-84ca-07245d02b658",
   "metadata": {
    "papermill": {
     "duration": null,
     "end_time": null,
     "exception": null,
     "start_time": null,
     "status": "pending"
    },
    "scrolled": true,
    "tags": []
   },
   "outputs": [],
   "source": [
    "Columns=X.columns.values\n",
    "print(Columns)"
   ]
  },
  {
   "cell_type": "code",
   "execution_count": null,
   "id": "8935c6e7-9ecd-4dea-9a83-7d87401302a6",
   "metadata": {
    "papermill": {
     "duration": null,
     "end_time": null,
     "exception": null,
     "start_time": null,
     "status": "pending"
    },
    "tags": []
   },
   "outputs": [],
   "source": [
    "\n",
    "weights = pd.Series(model.coef_[0], index=X.columns.values)\n",
    "\n",
    "# Sort and plot the top 10 coefficients as a line plot\n",
    "weights.sort_values(ascending=False)[:10].plot(kind='line', marker='o')\n",
    "plt.title('Top 10 Feature Weights')\n",
    "plt.xlabel('Feature')\n",
    "plt.ylabel('Weight')\n",
    "plt.xticks(rotation=45)\n",
    "plt.show()\n",
    "\n"
   ]
  },
  {
   "cell_type": "code",
   "execution_count": null,
   "id": "52a82b58-0f86-45bb-ac74-066bb55474d7",
   "metadata": {
    "papermill": {
     "duration": null,
     "end_time": null,
     "exception": null,
     "start_time": null,
     "status": "pending"
    },
    "tags": []
   },
   "outputs": [],
   "source": [
    "weights=pd.Series(model.coef_[0],index=X.columns.values)\n",
    "\n",
    "print(weights.sort_values(ascending=False)[:10].plot(kind='bar'))\n",
    "#plt.savefig(\"dataVisualisation/weights_first_10.png\", dpi=300)"
   ]
  },
  {
   "cell_type": "code",
   "execution_count": null,
   "id": "6321f99c-a018-4ce9-a653-7d0c6191888e",
   "metadata": {
    "papermill": {
     "duration": null,
     "end_time": null,
     "exception": null,
     "start_time": null,
     "status": "pending"
    },
    "tags": []
   },
   "outputs": [],
   "source": [
    "weights=pd.Series(model.coef_[0],index=X.columns.values)\n",
    "print(weights.sort_values(ascending=False)[-10:].plot(kind='bar'))\n",
    "#plt.savefig(\"dataVisualisation/wt_last_10.png\", dpi=300)\n",
    "#Negative relation means that likeliness of churn decreases with that variable"
   ]
  },
  {
   "cell_type": "code",
   "execution_count": null,
   "id": "16865fb9-f6be-4ddd-b858-b49bfd47cb56",
   "metadata": {
    "papermill": {
     "duration": null,
     "end_time": null,
     "exception": null,
     "start_time": null,
     "status": "pending"
    },
    "tags": []
   },
   "outputs": [],
   "source": [
    "first_X_test_record = X_test.iloc[1]\n",
    "first_y_test_record = y_test[1]\n",
    "print(first_X_test_record)\n",
    "print(first_y_test_record)\n",
    "\n"
   ]
  },
  {
   "cell_type": "code",
   "execution_count": null,
   "id": "7bcef796-6921-4966-b4ec-c2a0ba2135a2",
   "metadata": {
    "papermill": {
     "duration": null,
     "end_time": null,
     "exception": null,
     "start_time": null,
     "status": "pending"
    },
    "tags": []
   },
   "outputs": [],
   "source": [
    "\n",
    "# Extracting one record from X_test and reshaping it\n",
    "single_X_test_record = X_test.iloc[1].values.reshape(1, -1) # Reshape to 2D array\n",
    "\n",
    "# Making the prediction\n",
    "prediction_test = model.predict(single_X_test_record)\n",
    "\n",
    "print(prediction_test)\n"
   ]
  },
  {
   "cell_type": "code",
   "execution_count": null,
   "id": "4364b8b5-a272-4d57-a6dc-d6382e2258a6",
   "metadata": {
    "papermill": {
     "duration": null,
     "end_time": null,
     "exception": null,
     "start_time": null,
     "status": "pending"
    },
    "tags": []
   },
   "outputs": [],
   "source": [
    "\n",
    "import joblib\n",
    "\n",
    "# Save the model to a file\n",
    "joblib.dump(model, 'model.joblib')\n"
   ]
  },
  {
   "cell_type": "code",
   "execution_count": null,
   "id": "8b08ea7e-aeca-469a-ab3c-6fb9b9b407ad",
   "metadata": {
    "papermill": {
     "duration": null,
     "end_time": null,
     "exception": null,
     "start_time": null,
     "status": "pending"
    },
    "tags": []
   },
   "outputs": [],
   "source": [
    "# Load the model from the file\n",
    "model = joblib.load('model.joblib')\n"
   ]
  },
  {
   "cell_type": "code",
   "execution_count": null,
   "id": "7e2cc6c1-8f91-4cc8-9e2c-3d0cb77a27a6",
   "metadata": {
    "papermill": {
     "duration": null,
     "end_time": null,
     "exception": null,
     "start_time": null,
     "status": "pending"
    },
    "tags": []
   },
   "outputs": [],
   "source": [
    "\n",
    "import sklearn\n",
    "print(sklearn.__version__)\n"
   ]
  },
  {
   "cell_type": "code",
   "execution_count": null,
   "id": "ec51f605-8904-4db6-96fc-1e133e4cb753",
   "metadata": {
    "papermill": {
     "duration": null,
     "end_time": null,
     "exception": null,
     "start_time": null,
     "status": "pending"
    },
    "tags": []
   },
   "outputs": [],
   "source": [
    "\n",
    "!pip install google-cloud-storage\n"
   ]
  },
  {
   "cell_type": "code",
   "execution_count": null,
   "id": "ba7cdab7-54c0-46cd-9694-c376d9fb73ea",
   "metadata": {
    "papermill": {
     "duration": null,
     "end_time": null,
     "exception": null,
     "start_time": null,
     "status": "pending"
    },
    "tags": []
   },
   "outputs": [],
   "source": [
    "import os\n",
    "from google.cloud import storage\n",
    "\n",
    "def upload_blob(bucket_name, source_file_name, destination_blob_name):\n",
    "    \"\"\"Uploads a file to the bucket.\"\"\"\n",
    "    storage_client = storage.Client()\n",
    "    bucket = storage_client.bucket(bucket_name)\n",
    "    blob = bucket.blob(destination_blob_name)\n",
    "    blob.upload_from_filename(source_file_name)\n",
    "    print(f\"File {source_file_name} uploaded to {destination_blob_name}.\")\n",
    "\n",
    "def upload_directory(bucket_name, source_directory, destination_directory):\n",
    "    \"\"\"Uploads all files in a directory to the bucket.\"\"\"\n",
    "    storage_client = storage.Client()\n",
    "    bucket = storage_client.bucket(bucket_name)\n",
    "\n",
    "    for root, _, files in os.walk(source_directory):\n",
    "        for file in files:\n",
    "            file_path = os.path.join(root, file)\n",
    "            blob_path = os.path.join(destination_directory, file)\n",
    "            blob = bucket.blob(blob_path)\n",
    "            blob.upload_from_filename(file_path)\n",
    "            print(f\"File {file_path} uploaded to {blob_path}.\")\n",
    "\n",
    "# Example usage\n",
    "bucket_name = 'churn-model-prediction'\n",
    "source_directory = '/home/jupyter/ChurnPropensity/dataVisualisation'\n",
    "destination_directory = 'VizualisationForLooker'\n",
    "\n",
    "upload_directory(bucket_name, source_directory, destination_directory)\n"
   ]
  },
  {
   "cell_type": "code",
   "execution_count": null,
   "id": "71800970-6923-4772-a768-b9c1c3d1d7c5",
   "metadata": {
    "papermill": {
     "duration": null,
     "end_time": null,
     "exception": null,
     "start_time": null,
     "status": "pending"
    },
    "tags": []
   },
   "outputs": [],
   "source": [
    "#Random forest ---------------------------------------------------------------------------------------------------\n",
    "\n",
    "from sklearn import metrics\n",
    "y=df_dummies['Churn'].values\n",
    "X=df_dummies.drop(columns=['Churn'])\n",
    "from sklearn.ensemble import RandomForestClassifier\n",
    "X_train, X_test, y_train, y_test=train_test_split(X,y,test_size=0.2,random_state=101)\n",
    "model_rf=RandomForestClassifier(n_estimators=1000 , oob_score = True, n_jobs = -1, random_state =50, max_features = \"sqrt\",max_leaf_nodes = 30)\n",
    "result=model_rf.fit(X_train, y_train)\n",
    "prediction_test=model_rf.predict(X_test)\n",
    "print(metrics.accuracy_score(y_test, prediction_test))\n"
   ]
  },
  {
   "cell_type": "code",
   "execution_count": null,
   "id": "44d83c7a-cb32-4541-b276-d1cc15a74de7",
   "metadata": {
    "papermill": {
     "duration": null,
     "end_time": null,
     "exception": null,
     "start_time": null,
     "status": "pending"
    },
    "tags": []
   },
   "outputs": [],
   "source": []
  }
 ],
 "metadata": {
  "environment": {
   "kernel": "conda-base-py",
   "name": "workbench-notebooks.m130",
   "type": "gcloud",
   "uri": "us-docker.pkg.dev/deeplearning-platform-release/gcr.io/workbench-notebooks:m130"
  },
  "kernelspec": {
   "display_name": "Python 3 (ipykernel) (Local)",
   "language": "python",
   "name": "conda-base-py"
  },
  "language_info": {
   "codemirror_mode": {
    "name": "ipython",
    "version": 3
   },
   "file_extension": ".py",
   "mimetype": "text/x-python",
   "name": "python",
   "nbconvert_exporter": "python",
   "pygments_lexer": "ipython3",
   "version": "3.10.18"
  },
  "papermill": {
   "default_parameters": {},
   "duration": null,
   "end_time": null,
   "environment_variables": {},
   "exception": null,
   "input_path": "modelPrototype.ipynb",
   "output_path": "executed_notebooks/modelPrototype_1_output_20250626_185937.ipynb",
   "parameters": {
    "bucket_name": "churn-model-prediction",
    "destination_file_name": "/home/jupyter/ChurnPropensity/dataset1/Telecom-Customer-Churn.csv",
    "source_blob_name": "Telecom-Customer-Churn.csv"
   },
   "start_time": "2025-06-26T18:59:38.056972",
   "version": "2.6.0"
  }
 },
 "nbformat": 4,
 "nbformat_minor": 5
}